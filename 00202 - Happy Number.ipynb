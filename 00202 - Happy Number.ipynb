{
 "cells": [
  {
   "cell_type": "code",
   "execution_count": null,
   "id": "a6148583-5588-4098-9257-4b6bfb72d7e2",
   "metadata": {},
   "outputs": [],
   "source": [
    "class Solution:\n",
    "    def isHappy(self, n: int) -> bool:\n",
    "        \n",
    "        def squares(number):\n",
    "            number_str = str(number)\n",
    "            answer = 0\n",
    "            for c in number_str:\n",
    "                answer += int(c)**2\n",
    "            return answer\n",
    "        \n",
    "        table = set()\n",
    "        \n",
    "        while (n != 1):\n",
    "            if n in table:\n",
    "                return False\n",
    "            else:\n",
    "                table.add(n)\n",
    "                n = squares(n)\n",
    "            \n",
    "        return True"
   ]
  }
 ],
 "metadata": {
  "kernelspec": {
   "display_name": "Python 3 (ipykernel)",
   "language": "python",
   "name": "python3"
  },
  "language_info": {
   "codemirror_mode": {
    "name": "ipython",
    "version": 3
   },
   "file_extension": ".py",
   "mimetype": "text/x-python",
   "name": "python",
   "nbconvert_exporter": "python",
   "pygments_lexer": "ipython3",
   "version": "3.8.12"
  }
 },
 "nbformat": 4,
 "nbformat_minor": 5
}
