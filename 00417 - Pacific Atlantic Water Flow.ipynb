{
 "cells": [
  {
   "cell_type": "code",
   "execution_count": null,
   "id": "a6148583-5588-4098-9257-4b6bfb72d7e2",
   "metadata": {},
   "outputs": [],
   "source": [
    "class Solution:\n",
    "    def pacificAtlantic(self, heights: List[List[int]]) -> List[List[int]]:\n",
    "\n",
    "        def reachOcean(heights: List[List[int]], reach_set: set) -> List[List[int]]:            \n",
    "            m = len(heights)\n",
    "            n = len(heights[0])\n",
    "            ocean = [[False]*n for _ in range(m)]\n",
    "            while (len(reach_set) > 0):\n",
    "                (u, v) = reach_set.pop()\n",
    "                ocean[u][v] = True\n",
    "\n",
    "                if u > 0:\n",
    "                    if heights[u][v] <= heights[u-1][v] and ocean[u-1][v] is False:\n",
    "                        reach_set.add((u-1, v))\n",
    "                if v > 0:\n",
    "                    if heights[u][v] <= heights[u][v-1] and ocean[u][v-1] is False:\n",
    "                        reach_set.add((u, v-1))\n",
    "                if u < m - 1:\n",
    "                    if heights[u][v] <= heights[u+1][v] and ocean[u+1][v] is False:\n",
    "                        reach_set.add((u+1, v))\n",
    "                if v < n - 1:\n",
    "                    if heights[u][v] <= heights[u][v+1] and ocean[u][v+1] is False:\n",
    "                        reach_set.add((u, v+1))\n",
    "            return ocean\n",
    "                \n",
    "        m = len(heights)\n",
    "        n = len(heights[0])\n",
    "        \n",
    "        po_set = set()\n",
    "        for i in range (m): po_set.add((i, 0))\n",
    "        for j in range(n): po_set.add((0, j))\n",
    "        pacific_ocean = reachOcean(heights, po_set)\n",
    "            \n",
    "        ao_set = set()\n",
    "        for i in range (m): ao_set.add((i, n-1))\n",
    "        for j in range(n): ao_set.add((m-1, j))\n",
    "        atlantic_ocean = reachOcean(heights, ao_set)\n",
    "            \n",
    "        \n",
    "        answer = []\n",
    "        for i in range(m):\n",
    "            for j in range(n):\n",
    "                if pacific_ocean[i][j] and atlantic_ocean[i][j]:\n",
    "                    answer.append([i, j])\n",
    "        return answer"
   ]
  }
 ],
 "metadata": {
  "kernelspec": {
   "display_name": "Python 3 (ipykernel)",
   "language": "python",
   "name": "python3"
  },
  "language_info": {
   "codemirror_mode": {
    "name": "ipython",
    "version": 3
   },
   "file_extension": ".py",
   "mimetype": "text/x-python",
   "name": "python",
   "nbconvert_exporter": "python",
   "pygments_lexer": "ipython3",
   "version": "3.8.12"
  }
 },
 "nbformat": 4,
 "nbformat_minor": 5
}
