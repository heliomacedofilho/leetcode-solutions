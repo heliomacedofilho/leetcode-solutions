{
 "cells": [
  {
   "cell_type": "code",
   "execution_count": null,
   "id": "a6148583-5588-4098-9257-4b6bfb72d7e2",
   "metadata": {},
   "outputs": [],
   "source": [
    "class Solution:\n",
    "    def maxProduct(self, words: List[str]) -> int:\n",
    "        \n",
    "        \n",
    "        table = defaultdict(int)\n",
    "        \n",
    "        for word in words:\n",
    "            encoded_word = 0\n",
    "            for letter in set(word):\n",
    "                encoded_word |= (1 << (ord(letter) - ord('a')))\n",
    "            table[encoded_word] = max(table[encoded_word], len(word))\n",
    "            \n",
    "        return max([table[word_1] * table[word_2] if not (word_1 & word_2) else 0 for word_1 in table for word_2 in table])"
   ]
  }
 ],
 "metadata": {
  "kernelspec": {
   "display_name": "Python 3 (ipykernel)",
   "language": "python",
   "name": "python3"
  },
  "language_info": {
   "codemirror_mode": {
    "name": "ipython",
    "version": 3
   },
   "file_extension": ".py",
   "mimetype": "text/x-python",
   "name": "python",
   "nbconvert_exporter": "python",
   "pygments_lexer": "ipython3",
   "version": "3.8.12"
  }
 },
 "nbformat": 4,
 "nbformat_minor": 5
}
