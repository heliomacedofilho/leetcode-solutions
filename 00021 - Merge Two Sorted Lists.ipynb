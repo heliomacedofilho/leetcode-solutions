{
 "cells": [
  {
   "cell_type": "code",
   "execution_count": null,
   "id": "a6148583-5588-4098-9257-4b6bfb72d7e2",
   "metadata": {},
   "outputs": [],
   "source": [
    "# Definition for singly-linked list.\n",
    "# class ListNode:\n",
    "#     def __init__(self, val=0, next=None):\n",
    "#         self.val = val\n",
    "#         self.next = next\n",
    "class Solution:\n",
    "    def mergeTwoLists(self, list1: Optional[ListNode], list2: Optional[ListNode]) -> Optional[ListNode]:\n",
    "\n",
    "        previous_head_merged_list = ListNode(None, None)\n",
    "        pointer_merged_list = previous_head_merged_list\n",
    "        \n",
    "        pointer_list1 = list1\n",
    "        pointer_list2 = list2\n",
    "        \n",
    "        while (pointer_list1 and pointer_list2):\n",
    "            if pointer_list1.val < pointer_list2.val:\n",
    "                pointer_merged_list.next = pointer_list1\n",
    "                pointer_list1 = pointer_list1.next\n",
    "            else:\n",
    "                pointer_merged_list.next = pointer_list2\n",
    "                pointer_list2 = pointer_list2.next            \n",
    "            pointer_merged_list = pointer_merged_list.next\n",
    "            \n",
    "\n",
    "        if pointer_list1:\n",
    "            pointer_merged_list.next = pointer_list1\n",
    "        else:\n",
    "            pointer_merged_list.next = pointer_list2\n",
    "            \n",
    "        return previous_head_merged_list.next"
   ]
  }
 ],
 "metadata": {
  "kernelspec": {
   "display_name": "Python 3 (ipykernel)",
   "language": "python",
   "name": "python3"
  },
  "language_info": {
   "codemirror_mode": {
    "name": "ipython",
    "version": 3
   },
   "file_extension": ".py",
   "mimetype": "text/x-python",
   "name": "python",
   "nbconvert_exporter": "python",
   "pygments_lexer": "ipython3",
   "version": "3.8.12"
  }
 },
 "nbformat": 4,
 "nbformat_minor": 5
}
