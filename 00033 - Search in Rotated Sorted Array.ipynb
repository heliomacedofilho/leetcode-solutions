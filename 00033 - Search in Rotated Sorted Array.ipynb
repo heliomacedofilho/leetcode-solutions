{
 "cells": [
  {
   "cell_type": "code",
   "execution_count": null,
   "id": "a6148583-5588-4098-9257-4b6bfb72d7e2",
   "metadata": {},
   "outputs": [],
   "source": [
    "class Solution:\n",
    "    def search(self, nums: List[int], target: int) -> int:\n",
    "        #Solution 01\n",
    "        #def pivot(arr):\n",
    "        #    i, j = 0, len(arr) - 1\n",
    "        #    while (i<=j):\n",
    "        #        m = (i+j)//2\n",
    "        #        if arr[i] > arr[m]:\n",
    "        #            j = m\n",
    "        #        elif arr[j] < arr[m]:\n",
    "        #            i = m + 1\n",
    "        #        else:\n",
    "        #            return i\n",
    "        #piv = pivot(nums)\n",
    "        #i, j = piv, piv + len(nums) - 1\n",
    "        #while (i<=j):\n",
    "        #    m = (i+j)//2\n",
    "        #    if nums[m%len(nums)] < target:\n",
    "        #        i = m + 1\n",
    "        #    else:\n",
    "        #        j = m - 1\n",
    "        #if i == piv + len(nums):\n",
    "        #    return -1\n",
    "        #else:\n",
    "        #    if nums[i%len(nums)] == target:\n",
    "        #        return i%len(nums)\n",
    "        #    else:\n",
    "        #        return -1\n",
    "        \n",
    "        #Solution 02\n",
    "        \n",
    "        i, j = 0, len(nums) - 1\n",
    "        while (i<=j):\n",
    "            m = (i+j)//2\n",
    "            if nums[m] == target:\n",
    "                return m\n",
    "            elif nums[i] <= nums[m]:\n",
    "                if nums[i] <= target <= nums[m]:\n",
    "                    j = m - 1\n",
    "                else:\n",
    "                    i = m + 1\n",
    "            else:\n",
    "                if nums[m] <= target <= nums[j]:\n",
    "                    i = m + 1\n",
    "                else:\n",
    "                    j = m - 1\n",
    "        return -1"
   ]
  }
 ],
 "metadata": {
  "kernelspec": {
   "display_name": "Python 3 (ipykernel)",
   "language": "python",
   "name": "python3"
  },
  "language_info": {
   "codemirror_mode": {
    "name": "ipython",
    "version": 3
   },
   "file_extension": ".py",
   "mimetype": "text/x-python",
   "name": "python",
   "nbconvert_exporter": "python",
   "pygments_lexer": "ipython3",
   "version": "3.8.12"
  }
 },
 "nbformat": 4,
 "nbformat_minor": 5
}
