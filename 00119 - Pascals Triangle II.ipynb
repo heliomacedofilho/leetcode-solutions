{
 "cells": [
  {
   "cell_type": "code",
   "execution_count": null,
   "id": "a6148583-5588-4098-9257-4b6bfb72d7e2",
   "metadata": {},
   "outputs": [],
   "source": [
    "class Solution:\n",
    "    def getRow(self, rowIndex: int) -> List[int]:\n",
    "        #Solution 01\n",
    "        #answer = [1] + [0]*rowIndex\n",
    "        #for i in range(1, rowIndex+1):\n",
    "        #    for j in range(i, -1, -1):\n",
    "        #        answer[j] = (answer[j-1] if j > 0 else 0) + (answer[j] if j < i else 0)\n",
    "        #return answer\n",
    "        \n",
    "        #Solution 02\n",
    "        return [factorial(rowIndex) // (factorial(m) * factorial(rowIndex - m)) for m in range(rowIndex + 1)]"
   ]
  }
 ],
 "metadata": {
  "kernelspec": {
   "display_name": "Python 3 (ipykernel)",
   "language": "python",
   "name": "python3"
  },
  "language_info": {
   "codemirror_mode": {
    "name": "ipython",
    "version": 3
   },
   "file_extension": ".py",
   "mimetype": "text/x-python",
   "name": "python",
   "nbconvert_exporter": "python",
   "pygments_lexer": "ipython3",
   "version": "3.8.12"
  }
 },
 "nbformat": 4,
 "nbformat_minor": 5
}
