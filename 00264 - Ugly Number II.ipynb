{
 "cells": [
  {
   "cell_type": "code",
   "execution_count": null,
   "id": "a6148583-5588-4098-9257-4b6bfb72d7e2",
   "metadata": {},
   "outputs": [],
   "source": [
    "class Solution:\n",
    "    def nthUglyNumber(self, n: int) -> int:\n",
    "        factors = [2, 3, 5]\n",
    "        ugly_numbers = [1]\n",
    "        indices = [0, 0, 0]\n",
    "        \n",
    "        for _ in range(n-1):\n",
    "            ugly_numbers.append(min([factors[i]*ugly_numbers[indices[i]] for i in range(3)]))\n",
    "            for i in range(3):\n",
    "                indices[i] += 1 if ugly_numbers[-1] == factors[i]*ugly_numbers[indices[i]] else 0\n",
    "                    \n",
    "\n",
    "        return ugly_numbers[-1]"
   ]
  }
 ],
 "metadata": {
  "kernelspec": {
   "display_name": "Python 3 (ipykernel)",
   "language": "python",
   "name": "python3"
  },
  "language_info": {
   "codemirror_mode": {
    "name": "ipython",
    "version": 3
   },
   "file_extension": ".py",
   "mimetype": "text/x-python",
   "name": "python",
   "nbconvert_exporter": "python",
   "pygments_lexer": "ipython3",
   "version": "3.8.12"
  }
 },
 "nbformat": 4,
 "nbformat_minor": 5
}
