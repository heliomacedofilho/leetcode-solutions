{
 "cells": [
  {
   "cell_type": "code",
   "execution_count": null,
   "id": "a6148583-5588-4098-9257-4b6bfb72d7e2",
   "metadata": {},
   "outputs": [],
   "source": [
    "class Solution:\n",
    "    def longestCommonSubsequence(self, text1: str, text2: str) -> int:\n",
    "        #Solution 01\n",
    "        #i = 0\n",
    "        #j = 0\n",
    "        #m = len(text1)\n",
    "        #n = len(text2)\n",
    "        #dp = [[0]*len(text2) for _ in range(len(text1))]\n",
    "        #for i in range(m):\n",
    "        #    for j in range(n):\n",
    "        #        if text1[i] == text2[j]:\n",
    "        #            dp[i][j] = 1 + (dp[i-1][j-1] if i and j else 0)\n",
    "        #        else:\n",
    "        #            dp[i][j] = max(dp[i-1][j] if i else 0, dp[i][j-1] if j else 0)\n",
    "        #return dp[-1][-1]                \n",
    "        \n",
    "        def binary_search(arr, target):\n",
    "            i, j = 0, len(arr) - 1\n",
    "            while (i<=j):\n",
    "                m = (i+j)//2\n",
    "                if arr[m] == target:\n",
    "                    return m\n",
    "                elif arr[m] < target:\n",
    "                    i = m + 1\n",
    "                else:\n",
    "                    j = m - 1\n",
    "            return i\n",
    "            \n",
    "        \n",
    "        table_text2 = defaultdict(list)\n",
    "        for idx in range(len(text2)-1,-1,-1):\n",
    "            table_text2[text2[idx]].append(idx)\n",
    "            \n",
    "        answer = []\n",
    "        for c in text1:\n",
    "            if c in table_text2:\n",
    "                for i in table_text2[c]:\n",
    "                    answer_idx = binary_search(answer, i)\n",
    "                    if answer_idx == len(answer):\n",
    "                        answer.append(i)\n",
    "                    else:\n",
    "                        answer[answer_idx] = i\n",
    "        return len(answer)    "
   ]
  }
 ],
 "metadata": {
  "kernelspec": {
   "display_name": "Python 3 (ipykernel)",
   "language": "python",
   "name": "python3"
  },
  "language_info": {
   "codemirror_mode": {
    "name": "ipython",
    "version": 3
   },
   "file_extension": ".py",
   "mimetype": "text/x-python",
   "name": "python",
   "nbconvert_exporter": "python",
   "pygments_lexer": "ipython3",
   "version": "3.8.12"
  }
 },
 "nbformat": 4,
 "nbformat_minor": 5
}
