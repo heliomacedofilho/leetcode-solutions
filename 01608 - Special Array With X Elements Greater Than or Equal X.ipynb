{
 "cells": [
  {
   "cell_type": "code",
   "execution_count": null,
   "id": "a6148583-5588-4098-9257-4b6bfb72d7e2",
   "metadata": {},
   "outputs": [],
   "source": [
    "class Solution:\n",
    "    def specialArray(self, nums: List[int]) -> int:\n",
    "        \n",
    "        nums.sort(reverse=True)\n",
    "        \n",
    "        i, j = 0, len(nums) - 1\n",
    "        while (i<=j):\n",
    "            m = (i+j)//2\n",
    "            if m < nums[m]:\n",
    "                i = m + 1\n",
    "            else:\n",
    "                j = m - 1\n",
    "        \n",
    "        if i == len(nums) or i > nums[i]:\n",
    "            return i\n",
    "        return -1"
   ]
  }
 ],
 "metadata": {
  "kernelspec": {
   "display_name": "Python 3 (ipykernel)",
   "language": "python",
   "name": "python3"
  },
  "language_info": {
   "codemirror_mode": {
    "name": "ipython",
    "version": 3
   },
   "file_extension": ".py",
   "mimetype": "text/x-python",
   "name": "python",
   "nbconvert_exporter": "python",
   "pygments_lexer": "ipython3",
   "version": "3.8.12"
  }
 },
 "nbformat": 4,
 "nbformat_minor": 5
}
