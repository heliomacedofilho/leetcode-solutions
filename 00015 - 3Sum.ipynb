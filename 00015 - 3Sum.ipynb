{
 "cells": [
  {
   "cell_type": "code",
   "execution_count": null,
   "id": "a6148583-5588-4098-9257-4b6bfb72d7e2",
   "metadata": {},
   "outputs": [],
   "source": [
    "class Solution:\n",
    "    def threeSum(self, nums: List[int]) -> List[List[int]]:\n",
    "\n",
    "        nums.sort()\n",
    "        \n",
    "        answer = []\n",
    "        for idx, x in enumerate(nums):\n",
    "            if idx and nums[idx]==nums[idx-1]: continue #do not repeat x\n",
    "            l = idx+1\n",
    "            r = len(nums)-1\n",
    "            while (l < r):\n",
    "                three_sum = x + nums[l] + nums[r]\n",
    "                if three_sum > 0:\n",
    "                    r-=1\n",
    "                elif three_sum < 0:\n",
    "                    l+=1\n",
    "                else:\n",
    "                    answer.append([x, nums[l], nums[r]])\n",
    "                    l+=1\n",
    "                    while (l < r):\n",
    "                        if nums[l] == nums[l-1]:  #do not repeat y\n",
    "                            l+=1\n",
    "                        else:\n",
    "                            break\n",
    "        return answer"
   ]
  }
 ],
 "metadata": {
  "kernelspec": {
   "display_name": "Python 3 (ipykernel)",
   "language": "python",
   "name": "python3"
  },
  "language_info": {
   "codemirror_mode": {
    "name": "ipython",
    "version": 3
   },
   "file_extension": ".py",
   "mimetype": "text/x-python",
   "name": "python",
   "nbconvert_exporter": "python",
   "pygments_lexer": "ipython3",
   "version": "3.8.12"
  }
 },
 "nbformat": 4,
 "nbformat_minor": 5
}
