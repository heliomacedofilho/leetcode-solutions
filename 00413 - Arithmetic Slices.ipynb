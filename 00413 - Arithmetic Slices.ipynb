{
 "cells": [
  {
   "cell_type": "code",
   "execution_count": null,
   "id": "a6148583-5588-4098-9257-4b6bfb72d7e2",
   "metadata": {},
   "outputs": [],
   "source": [
    "class Solution:\n",
    "    def numberOfArithmeticSlices(self, nums: List[int]) -> int:\n",
    "        if len(nums) < 3: return 0\n",
    "        answer = 0\n",
    "        size = 0\n",
    "        diff = nums[1] - nums[0]\n",
    "        for i in range(2, len(nums)):\n",
    "            diff_old = diff\n",
    "            diff = nums[i] - nums[i-1]\n",
    "            if diff == diff_old:\n",
    "                size+=1\n",
    "            else:\n",
    "                answer += ((size+1)*(size))//2\n",
    "                size = 0\n",
    "        if size != 0:\n",
    "            answer += ((size+1)*(size))//2\n",
    "        return answer"
   ]
  }
 ],
 "metadata": {
  "kernelspec": {
   "display_name": "Python 3 (ipykernel)",
   "language": "python",
   "name": "python3"
  },
  "language_info": {
   "codemirror_mode": {
    "name": "ipython",
    "version": 3
   },
   "file_extension": ".py",
   "mimetype": "text/x-python",
   "name": "python",
   "nbconvert_exporter": "python",
   "pygments_lexer": "ipython3",
   "version": "3.8.12"
  }
 },
 "nbformat": 4,
 "nbformat_minor": 5
}
