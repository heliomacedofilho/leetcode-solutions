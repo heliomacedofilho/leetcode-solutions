{
 "cells": [
  {
   "cell_type": "code",
   "execution_count": null,
   "id": "a6148583-5588-4098-9257-4b6bfb72d7e2",
   "metadata": {},
   "outputs": [],
   "source": [
    "# Definition for a binary tree node.\n",
    "# class TreeNode:\n",
    "#     def __init__(self, val=0, left=None, right=None):\n",
    "#         self.val = val\n",
    "#         self.left = left\n",
    "#         self.right = right\n",
    "class Solution:\n",
    "    def insertIntoBST(self, root: Optional[TreeNode], val: int) -> Optional[TreeNode]:\n",
    "        #Solution 01\n",
    "        #if not root:\n",
    "        #    return TreeNode(val)\n",
    "        #else:\n",
    "        #    parent, node = None, root\n",
    "        #    while (node):\n",
    "        #        parent = node\n",
    "        #        node = parent.right if val > parent.val else parent.left\n",
    "        #    node = TreeNode(val, None, None)\n",
    "        #    if val > parent.val:\n",
    "        #        parent.right = node\n",
    "        #    else:\n",
    "        #        parent.left = node\n",
    "        #return root\n",
    "        \n",
    "        #Solution 02\n",
    "        if root:\n",
    "            if root.val < val:\n",
    "                root.right = self.insertIntoBST(root.right, val)\n",
    "            else:\n",
    "                root.left = self.insertIntoBST(root.left, val)\n",
    "        else:\n",
    "            root = TreeNode(val)\n",
    "        return root\n",
    "        "
   ]
  }
 ],
 "metadata": {
  "kernelspec": {
   "display_name": "Python 3 (ipykernel)",
   "language": "python",
   "name": "python3"
  },
  "language_info": {
   "codemirror_mode": {
    "name": "ipython",
    "version": 3
   },
   "file_extension": ".py",
   "mimetype": "text/x-python",
   "name": "python",
   "nbconvert_exporter": "python",
   "pygments_lexer": "ipython3",
   "version": "3.8.12"
  }
 },
 "nbformat": 4,
 "nbformat_minor": 5
}
