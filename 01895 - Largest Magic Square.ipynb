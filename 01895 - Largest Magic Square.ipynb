{
 "cells": [
  {
   "cell_type": "code",
   "execution_count": null,
   "id": "a6148583-5588-4098-9257-4b6bfb72d7e2",
   "metadata": {},
   "outputs": [],
   "source": [
    "class Solution:\n",
    "    def largestMagicSquare(self, grid: List[List[int]]) -> int:\n",
    "        \n",
    "        m, n = len(grid), len(grid[0])\n",
    "        \n",
    "        prefix_sum = [[(0,0,0,0)] * (n+1) for _ in range(m+2)] #[0,0,0,0] = row_sum, column_sum, major_diagonal_sum, minor_diagonal_sum\n",
    "        \n",
    "        for j in range(1, n+1):\n",
    "            for i in range(1, m+1):\n",
    "                prefix_sum[i][j] = (\n",
    "                    prefix_sum[i][j-1][0] + grid[i-1][j-1],\n",
    "                    prefix_sum[i-1][j][1] + grid[i-1][j-1],\n",
    "                    prefix_sum[i-1][j-1][2] + grid[i-1][j-1],\n",
    "                    prefix_sum[i+1][j-1][3] + grid[i-1][j-1]\n",
    "                )\n",
    "        \n",
    "        for k in range(min(m, n), 0, -1):\n",
    "            for i in range (m-k+1):\n",
    "                for j in range (n-k+1):\n",
    "                    major_diagonal_sum = prefix_sum[i+k][j+k][2] - prefix_sum[i][j][2]\n",
    "                    minor_diagonal_sum = prefix_sum[i+1][j+k][3] - prefix_sum[i+k+1][j][3]\n",
    "                    if (minor_diagonal_sum != major_diagonal_sum): continue\n",
    "                    if any(prefix_sum[i+row][j+k][0] - prefix_sum[i+row][j][0] != major_diagonal_sum for row in range(1, k+1)): continue\n",
    "                    if any(prefix_sum[i+k][j+column][1] - prefix_sum[i][j+column][1] != major_diagonal_sum for column in range(1, k+1)): continue\n",
    "                    return k"
   ]
  }
 ],
 "metadata": {
  "kernelspec": {
   "display_name": "Python 3 (ipykernel)",
   "language": "python",
   "name": "python3"
  },
  "language_info": {
   "codemirror_mode": {
    "name": "ipython",
    "version": 3
   },
   "file_extension": ".py",
   "mimetype": "text/x-python",
   "name": "python",
   "nbconvert_exporter": "python",
   "pygments_lexer": "ipython3",
   "version": "3.8.12"
  }
 },
 "nbformat": 4,
 "nbformat_minor": 5
}
