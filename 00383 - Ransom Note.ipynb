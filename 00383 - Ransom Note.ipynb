{
 "cells": [
  {
   "cell_type": "code",
   "execution_count": null,
   "id": "a6148583-5588-4098-9257-4b6bfb72d7e2",
   "metadata": {},
   "outputs": [],
   "source": [
    "class Solution:\n",
    "    def canConstruct(self, ransomNote: str, magazine: str) -> bool:\n",
    "        \n",
    "        #Solution 01\n",
    "        #magazine_table = defaultdict(int)\n",
    "        #\n",
    "        #for letter in magazine:\n",
    "        #    magazine_table[letter]+=1\n",
    "        #    \n",
    "        #for letter in ransomNote:\n",
    "        #    magazine_table[letter]-=1\n",
    "        # \n",
    "        #return all([magazine_table[letter] >= 0 for letter in magazine_table])\n",
    "        \n",
    "        \n",
    "        #Solution 02\n",
    "        \n",
    "        for letter in set(ransomNote):\n",
    "            if ransomNote.count(letter) > magazine.count(letter):\n",
    "                return False\n",
    "        return True\n",
    "                "
   ]
  }
 ],
 "metadata": {
  "kernelspec": {
   "display_name": "Python 3 (ipykernel)",
   "language": "python",
   "name": "python3"
  },
  "language_info": {
   "codemirror_mode": {
    "name": "ipython",
    "version": 3
   },
   "file_extension": ".py",
   "mimetype": "text/x-python",
   "name": "python",
   "nbconvert_exporter": "python",
   "pygments_lexer": "ipython3",
   "version": "3.8.12"
  }
 },
 "nbformat": 4,
 "nbformat_minor": 5
}
