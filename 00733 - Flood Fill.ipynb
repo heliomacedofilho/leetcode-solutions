{
 "cells": [
  {
   "cell_type": "code",
   "execution_count": null,
   "id": "a6148583-5588-4098-9257-4b6bfb72d7e2",
   "metadata": {},
   "outputs": [],
   "source": [
    "class Solution:\n",
    "    def floodFill(self, image: List[List[int]], sr: int, sc: int, newColor: int) -> List[List[int]]:\n",
    "        def DFS(image: List[List[int]], sr: int, sc: int, newColor: int, oldColor: int):\n",
    "\n",
    "            if image[sr][sc] == oldColor:\n",
    "                image[sr][sc] = newColor\n",
    "\n",
    "                if sr > 0:\n",
    "                    DFS(image, sr-1, sc, newColor, oldColor)\n",
    "                if sr < len(image) - 1:\n",
    "                    DFS(image, sr+1, sc, newColor, oldColor)\n",
    "                if sc > 0:\n",
    "                    DFS(image, sr, sc-1, newColor, oldColor)\n",
    "                if sc < len(image[0]) - 1:\n",
    "                    DFS(image, sr, sc+1, newColor, oldColor)\n",
    "                return\n",
    "\n",
    "            else:\n",
    "                return\n",
    "            \n",
    "        if newColor != image[sr][sc]:\n",
    "            DFS(image, sr, sc, newColor, image[sr][sc])\n",
    "        return image"
   ]
  }
 ],
 "metadata": {
  "kernelspec": {
   "display_name": "Python 3 (ipykernel)",
   "language": "python",
   "name": "python3"
  },
  "language_info": {
   "codemirror_mode": {
    "name": "ipython",
    "version": 3
   },
   "file_extension": ".py",
   "mimetype": "text/x-python",
   "name": "python",
   "nbconvert_exporter": "python",
   "pygments_lexer": "ipython3",
   "version": "3.8.12"
  }
 },
 "nbformat": 4,
 "nbformat_minor": 5
}
