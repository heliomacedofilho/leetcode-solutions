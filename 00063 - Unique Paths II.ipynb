{
 "cells": [
  {
   "cell_type": "code",
   "execution_count": null,
   "id": "a6148583-5588-4098-9257-4b6bfb72d7e2",
   "metadata": {},
   "outputs": [],
   "source": [
    "class Solution:\n",
    "    def uniquePathsWithObstacles(self, obstacleGrid: List[List[int]]) -> int:\n",
    "        m = len(obstacleGrid)\n",
    "        n = len(obstacleGrid[0])\n",
    "        \n",
    "        answer = [0]*n\n",
    "        for j in range(n):\n",
    "            if obstacleGrid[0][j] == 0: \n",
    "                answer[j] = 1\n",
    "            else:\n",
    "                break\n",
    "\n",
    "        for i in range(m-1):\n",
    "            if obstacleGrid[i+1][0] == 0 and answer[0] == 1: \n",
    "                answer[0] = 1\n",
    "            else:\n",
    "                answer[0] = 0\n",
    "            for j in range (1, n):\n",
    "                answer[j] = (answer[j] if obstacleGrid[i][j] != 1 else 0)  + (answer[j-1] if obstacleGrid[i+1][j-1] != 1 else 0)\n",
    "        \n",
    "        return answer[-1] if obstacleGrid[-1][-1] == 0 else 0"
   ]
  }
 ],
 "metadata": {
  "kernelspec": {
   "display_name": "Python 3 (ipykernel)",
   "language": "python",
   "name": "python3"
  },
  "language_info": {
   "codemirror_mode": {
    "name": "ipython",
    "version": 3
   },
   "file_extension": ".py",
   "mimetype": "text/x-python",
   "name": "python",
   "nbconvert_exporter": "python",
   "pygments_lexer": "ipython3",
   "version": "3.8.12"
  }
 },
 "nbformat": 4,
 "nbformat_minor": 5
}
