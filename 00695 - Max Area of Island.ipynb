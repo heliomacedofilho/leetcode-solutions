{
 "cells": [
  {
   "cell_type": "code",
   "execution_count": null,
   "id": "a6148583-5588-4098-9257-4b6bfb72d7e2",
   "metadata": {},
   "outputs": [],
   "source": [
    "class Solution:\n",
    "    def maxAreaOfIsland(self, grid: List[List[int]]) -> int:\n",
    "\n",
    "        def BFS(grid, i, j):\n",
    "            \n",
    "            answer = 1\n",
    "            \n",
    "            grid[i][j] = 0\n",
    "            \n",
    "            if i > 0 and grid[i-1][j] == 1:\n",
    "                answer += BFS(grid, i-1, j)\n",
    "            if j > 0 and grid[i][j-1] == 1:\n",
    "                answer += BFS(grid, i, j-1)\n",
    "            if i < len(grid) - 1 and grid[i+1][j] == 1:\n",
    "                answer += BFS(grid, i+1, j)\n",
    "            if j < len(grid[0]) - 1 and grid[i][j+1] == 1:\n",
    "                answer += BFS(grid, i, j+1)\n",
    "            \n",
    "            return answer\n",
    "        \n",
    "        max_area = 0\n",
    "        for i in range(len(grid)):\n",
    "            for j in range(len(grid[0])):\n",
    "                if grid[i][j] == 1:\n",
    "                    max_area = max(max_area, BFS(grid, i, j))\n",
    "\n",
    "        return max_area"
   ]
  }
 ],
 "metadata": {
  "kernelspec": {
   "display_name": "Python 3 (ipykernel)",
   "language": "python",
   "name": "python3"
  },
  "language_info": {
   "codemirror_mode": {
    "name": "ipython",
    "version": 3
   },
   "file_extension": ".py",
   "mimetype": "text/x-python",
   "name": "python",
   "nbconvert_exporter": "python",
   "pygments_lexer": "ipython3",
   "version": "3.8.12"
  }
 },
 "nbformat": 4,
 "nbformat_minor": 5
}
