{
 "cells": [
  {
   "cell_type": "code",
   "execution_count": null,
   "id": "a6148583-5588-4098-9257-4b6bfb72d7e2",
   "metadata": {},
   "outputs": [],
   "source": [
    "class Solution:\n",
    "    def average(self, salary: List[int]) -> float:\n",
    "        max_salary, min_salary, sum_salary = salary[0], salary[0], salary[0]\n",
    "        for i in range(1, len(salary)):\n",
    "            max_salary = max(max_salary, salary[i])\n",
    "            min_salary = min(min_salary, salary[i])\n",
    "            sum_salary+= salary[i]\n",
    "        \n",
    "        return (sum_salary - max_salary - min_salary) / (len(salary)-2)"
   ]
  }
 ],
 "metadata": {
  "kernelspec": {
   "display_name": "Python 3 (ipykernel)",
   "language": "python",
   "name": "python3"
  },
  "language_info": {
   "codemirror_mode": {
    "name": "ipython",
    "version": 3
   },
   "file_extension": ".py",
   "mimetype": "text/x-python",
   "name": "python",
   "nbconvert_exporter": "python",
   "pygments_lexer": "ipython3",
   "version": "3.8.12"
  }
 },
 "nbformat": 4,
 "nbformat_minor": 5
}
