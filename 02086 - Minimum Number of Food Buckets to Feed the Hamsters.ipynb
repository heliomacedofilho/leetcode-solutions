{
 "cells": [
  {
   "cell_type": "code",
   "execution_count": null,
   "id": "a6148583-5588-4098-9257-4b6bfb72d7e2",
   "metadata": {},
   "outputs": [],
   "source": [
    "class Solution:\n",
    "    def minimumBuckets(self, street: str) -> int:\n",
    "\n",
    "        n = len(street)\n",
    "        indices = set()\n",
    "        \n",
    "        for index, char in enumerate(street):\n",
    "\n",
    "            if char == 'H':\n",
    "                if index > 0:                               #?H\n",
    "                    if index-1 in indices:                  #BH\n",
    "                        continue\n",
    "                    elif street[index-1] == '.':            #.H\n",
    "                        if index < n - 1:                   #.H?\n",
    "                            if street[index+1] == '.':      #.H. -> .HB\n",
    "                                indices.add(index+1)\n",
    "                                continue\n",
    "                            else:                           #.HH -> BHH\n",
    "                                indices.add(index-1)\n",
    "                                continue\n",
    "                        else:                               #.H -> BH\n",
    "                            indices.add(index-1)\n",
    "                            continue\n",
    "                    else:                                   #HH\n",
    "                        if index < n - 1:                   #HH?\n",
    "                            if street[index+1] == '.':      #HH. -> HHB\n",
    "                                indices.add(index+1)\n",
    "                                continue\n",
    "                            else:                           #HHH -> impossible\n",
    "                                return -1\n",
    "                        else:                               #HH -> impossible\n",
    "                            return -1\n",
    "                else:                                       #H\n",
    "                    if index < n - 1:                       #H?\n",
    "                        if street[index+1] == '.':          #H.\n",
    "                            indices.add(index+1)\n",
    "                            continue\n",
    "                        else:                               #HH -> impossible\n",
    "                            return -1\n",
    "                    else:                                   #H\n",
    "                        return -1\n",
    "                            \n",
    "        \n",
    "        return len(indices)"
   ]
  }
 ],
 "metadata": {
  "kernelspec": {
   "display_name": "Python 3 (ipykernel)",
   "language": "python",
   "name": "python3"
  },
  "language_info": {
   "codemirror_mode": {
    "name": "ipython",
    "version": 3
   },
   "file_extension": ".py",
   "mimetype": "text/x-python",
   "name": "python",
   "nbconvert_exporter": "python",
   "pygments_lexer": "ipython3",
   "version": "3.8.12"
  }
 },
 "nbformat": 4,
 "nbformat_minor": 5
}
