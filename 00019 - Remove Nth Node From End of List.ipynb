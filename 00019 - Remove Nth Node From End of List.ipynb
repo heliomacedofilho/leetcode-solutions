{
 "cells": [
  {
   "cell_type": "code",
   "execution_count": null,
   "id": "a6148583-5588-4098-9257-4b6bfb72d7e2",
   "metadata": {},
   "outputs": [],
   "source": [
    "# Definition for singly-linked list.\n",
    "# class ListNode:\n",
    "#     def __init__(self, val=0, next=None):\n",
    "#         self.val = val\n",
    "#         self.next = next\n",
    "class Solution:\n",
    "    def removeNthFromEnd(self, head: Optional[ListNode], n: int) -> Optional[ListNode]:\n",
    "        \n",
    "        #Solution 01\n",
    "        #def helper(head, n):\n",
    "        #    if head is None:\n",
    "        #        return 0\n",
    "        #    i = 1 + helper(head.next, n)\n",
    "        #    if i == n + 1:\n",
    "        #        head.next = head.next.next\n",
    "        #    return i\n",
    "        #\n",
    "        #if helper(head, n) == n:\n",
    "        #    head = head.next\n",
    "        #    \n",
    "        #return head\n",
    "        \n",
    "        #Solution 02\n",
    "        marker = head\n",
    "        while (n > 0):\n",
    "            n-=1\n",
    "            marker = marker.next\n",
    "        \n",
    "        if marker is None:\n",
    "            head = head.next\n",
    "            return head\n",
    "        \n",
    "        prev, current = head, head\n",
    "        while (marker is not None):\n",
    "            marker = marker.next\n",
    "            prev = current\n",
    "            current = current.next\n",
    "        prev.next = current.next\n",
    "        \n",
    "        return head\n",
    "        "
   ]
  }
 ],
 "metadata": {
  "kernelspec": {
   "display_name": "Python 3 (ipykernel)",
   "language": "python",
   "name": "python3"
  },
  "language_info": {
   "codemirror_mode": {
    "name": "ipython",
    "version": 3
   },
   "file_extension": ".py",
   "mimetype": "text/x-python",
   "name": "python",
   "nbconvert_exporter": "python",
   "pygments_lexer": "ipython3",
   "version": "3.8.12"
  }
 },
 "nbformat": 4,
 "nbformat_minor": 5
}
