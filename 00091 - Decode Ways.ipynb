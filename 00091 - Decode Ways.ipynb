{
 "cells": [
  {
   "cell_type": "code",
   "execution_count": null,
   "id": "a6148583-5588-4098-9257-4b6bfb72d7e2",
   "metadata": {},
   "outputs": [],
   "source": [
    "class Solution:\n",
    "    def numDecodings(self, s: str) -> int:\n",
    "        #Solution 01 (Memo)\n",
    "        #@cache\n",
    "        #def helper(i):\n",
    "        #    if i == len(s):\n",
    "        #        return 1\n",
    "        #    elif i == len(s) - 1:\n",
    "        #        return 0 if s[i] == \"0\" else 1\n",
    "        #    else:\n",
    "        #        possible_answer = 0\n",
    "        #        if s[i] == \"0\":\n",
    "        #            return 0\n",
    "        #        possible_answer += helper(i+1)\n",
    "        #        if 1 <= int(s[i:i+2]) <= 26:\n",
    "        #            possible_answer += helper(i+2)\n",
    "        #        return possible_answer\n",
    "        #return helper(0)\n",
    "        \n",
    "        #Solution 02 (DP)\n",
    "        dp_1 = 0 if s[-1] == \"0\" else 1\n",
    "        dp_2 = 1\n",
    "        \n",
    "        for i in range(len(s)-2,-1,-1):\n",
    "            if s[i] != \"0\":\n",
    "                if 1 <= int(s[i:i+2]) <= 26:\n",
    "                    dp_1, dp_2 = dp_1 + dp_2, dp_1\n",
    "                else:\n",
    "                    dp_1, dp_2 = dp_1, dp_1\n",
    "            else:\n",
    "                dp_1, dp_2 = 0, dp_1\n",
    "        return dp_1"
   ]
  }
 ],
 "metadata": {
  "kernelspec": {
   "display_name": "Python 3 (ipykernel)",
   "language": "python",
   "name": "python3"
  },
  "language_info": {
   "codemirror_mode": {
    "name": "ipython",
    "version": 3
   },
   "file_extension": ".py",
   "mimetype": "text/x-python",
   "name": "python",
   "nbconvert_exporter": "python",
   "pygments_lexer": "ipython3",
   "version": "3.8.12"
  }
 },
 "nbformat": 4,
 "nbformat_minor": 5
}
