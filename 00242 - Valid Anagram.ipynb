{
 "cells": [
  {
   "cell_type": "code",
   "execution_count": null,
   "id": "a6148583-5588-4098-9257-4b6bfb72d7e2",
   "metadata": {},
   "outputs": [],
   "source": [
    "class Solution:\n",
    "    def isAnagram(self, s: str, t: str) -> bool:\n",
    "        #Solution 01\n",
    "        table = defaultdict(int)\n",
    "        for c in s:\n",
    "            table[c]+=1\n",
    "        for c in t:\n",
    "            table[c]-=1\n",
    "        return all([table[c] == 0 for c in set(s).union(set(t))])\n",
    "        \n",
    "        #Solution 02\n",
    "        #return not any([s.count(c) != t.count(c) for c in set(s).union(set(t))])\n"
   ]
  }
 ],
 "metadata": {
  "kernelspec": {
   "display_name": "Python 3 (ipykernel)",
   "language": "python",
   "name": "python3"
  },
  "language_info": {
   "codemirror_mode": {
    "name": "ipython",
    "version": 3
   },
   "file_extension": ".py",
   "mimetype": "text/x-python",
   "name": "python",
   "nbconvert_exporter": "python",
   "pygments_lexer": "ipython3",
   "version": "3.8.12"
  }
 },
 "nbformat": 4,
 "nbformat_minor": 5
}
