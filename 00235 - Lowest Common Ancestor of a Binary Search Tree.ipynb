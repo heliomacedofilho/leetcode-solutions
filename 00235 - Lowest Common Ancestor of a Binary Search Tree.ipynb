{
 "cells": [
  {
   "cell_type": "code",
   "execution_count": null,
   "id": "a6148583-5588-4098-9257-4b6bfb72d7e2",
   "metadata": {},
   "outputs": [],
   "source": [
    "# Definition for a binary tree node.\n",
    "# class TreeNode:\n",
    "#     def __init__(self, x):\n",
    "#         self.val = x\n",
    "#         self.left = None\n",
    "#         self.right = None\n",
    "\n",
    "class Solution:\n",
    "    def lowestCommonAncestor(self, root: 'TreeNode', p: 'TreeNode', q: 'TreeNode') -> 'TreeNode':\n",
    "        \n",
    "        # Naive solution\n",
    "        #Solution 01\n",
    "        #def findPath(root, node):\n",
    "        #    if root:\n",
    "        #        answer = [root]\n",
    "        #        if root.val < node.val:\n",
    "        #            answer.extend(findPath(root.right, node))\n",
    "        #        elif root.val > node.val:\n",
    "        #            answer.extend(findPath(root.left, node))\n",
    "        #        return answer\n",
    "        #    else:\n",
    "        #        return []\n",
    "        #p_path = findPath(root, p)\n",
    "        #q_path = findPath(root, q)\n",
    "        #for i in range(min(len(p_path), len(q_path)) - 1, -1, -1):\n",
    "        #    if p_path[i] == q_path[i]:\n",
    "        #        return p_path[i]\n",
    "\n",
    "        #Solution 02 (Iterative)\n",
    "        #while (root):\n",
    "        #    if p.val < root.val and q.val < root.val:\n",
    "        #        root = root.left\n",
    "        #    elif p.val > root.val and q.val > root.val:\n",
    "        #        root = root.right\n",
    "        #    else:\n",
    "        #        return root\n",
    "\n",
    "        #Solution 03 (Recursive)\n",
    "        if (root):\n",
    "            if p.val < root.val and q.val < root.val:\n",
    "                return self.lowestCommonAncestor(root.left, p, q)\n",
    "            elif p.val > root.val and q.val > root.val:\n",
    "                return self.lowestCommonAncestor(root.right, p, q)\n",
    "            else:\n",
    "                return root"
   ]
  }
 ],
 "metadata": {
  "kernelspec": {
   "display_name": "Python 3 (ipykernel)",
   "language": "python",
   "name": "python3"
  },
  "language_info": {
   "codemirror_mode": {
    "name": "ipython",
    "version": 3
   },
   "file_extension": ".py",
   "mimetype": "text/x-python",
   "name": "python",
   "nbconvert_exporter": "python",
   "pygments_lexer": "ipython3",
   "version": "3.8.12"
  }
 },
 "nbformat": 4,
 "nbformat_minor": 5
}
