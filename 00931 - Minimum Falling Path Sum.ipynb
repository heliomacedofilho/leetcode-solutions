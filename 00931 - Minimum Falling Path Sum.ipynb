{
 "cells": [
  {
   "cell_type": "code",
   "execution_count": null,
   "id": "a6148583-5588-4098-9257-4b6bfb72d7e2",
   "metadata": {},
   "outputs": [],
   "source": [
    "class Solution:\n",
    "    def minFallingPathSum(self, matrix: List[List[int]]) -> int:\n",
    "        dp, dp_last_step = matrix[-1][:], matrix[-1][:]\n",
    "        for i in range(len(matrix)-2,-1,-1):\n",
    "            for j in range(len(matrix[0])):\n",
    "                if j == 0:\n",
    "                    dp[j] = matrix[i][j] + min(dp_last_step[j], dp_last_step[j+1])\n",
    "                elif j < len(matrix[0]) - 1:\n",
    "                    dp[j] = matrix[i][j] + min(dp_last_step[j-1], dp_last_step[j], dp_last_step[j+1])\n",
    "                else:\n",
    "                    dp[j] = matrix[i][j] + min(dp_last_step[j-1], dp_last_step[j])\n",
    "            dp_last_step = dp[:]\n",
    "\n",
    "        return min(dp)"
   ]
  }
 ],
 "metadata": {
  "kernelspec": {
   "display_name": "Python 3 (ipykernel)",
   "language": "python",
   "name": "python3"
  },
  "language_info": {
   "codemirror_mode": {
    "name": "ipython",
    "version": 3
   },
   "file_extension": ".py",
   "mimetype": "text/x-python",
   "name": "python",
   "nbconvert_exporter": "python",
   "pygments_lexer": "ipython3",
   "version": "3.8.12"
  }
 },
 "nbformat": 4,
 "nbformat_minor": 5
}
