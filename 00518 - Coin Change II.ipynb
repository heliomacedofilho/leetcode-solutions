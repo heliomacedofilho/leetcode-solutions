{
 "cells": [
  {
   "cell_type": "code",
   "execution_count": null,
   "id": "a6148583-5588-4098-9257-4b6bfb72d7e2",
   "metadata": {},
   "outputs": [],
   "source": [
    "class Solution:\n",
    "    def change(self, amount: int, coins: List[int]) -> int:\n",
    "        #Solution 01 (Memo)\n",
    "        #@cache\n",
    "        #def helper(amount, last_coin):\n",
    "        #    if amount == 0:\n",
    "        #        return 1\n",
    "        #    if amount < 0:\n",
    "        #        return 0\n",
    "        #    \n",
    "        #    number_of_combinations = 0\n",
    "        #    for coin in coins:\n",
    "        #        if coin <= last_coin and coin <= amount:\n",
    "        #            number_of_combinations += helper(amount-coin, coin)\n",
    "        #    return number_of_combinations        \n",
    "        #return helper(amount, max(coins))\n",
    "        \n",
    "        #Solution 2 (DP)\n",
    "        dp = [1] + [0]*amount\n",
    "        \n",
    "        for c in coins:\n",
    "            for i in range(c, amount+1):\n",
    "                dp[i] += dp[i-c]\n",
    "        \n",
    "        return dp[-1]"
   ]
  }
 ],
 "metadata": {
  "kernelspec": {
   "display_name": "Python 3 (ipykernel)",
   "language": "python",
   "name": "python3"
  },
  "language_info": {
   "codemirror_mode": {
    "name": "ipython",
    "version": 3
   },
   "file_extension": ".py",
   "mimetype": "text/x-python",
   "name": "python",
   "nbconvert_exporter": "python",
   "pygments_lexer": "ipython3",
   "version": "3.8.12"
  }
 },
 "nbformat": 4,
 "nbformat_minor": 5
}
