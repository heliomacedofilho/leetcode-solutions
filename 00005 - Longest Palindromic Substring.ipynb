{
 "cells": [
  {
   "cell_type": "code",
   "execution_count": null,
   "id": "a6148583-5588-4098-9257-4b6bfb72d7e2",
   "metadata": {},
   "outputs": [],
   "source": [
    "class Solution:\n",
    "    def longestPalindrome(self, s: str) -> str:\n",
    "        def largestPalindrome(s, i, j):\n",
    "            while (i >= 0 and j < len(s) and s[i] == s[j]):\n",
    "                i-=1\n",
    "                j+=1\n",
    "            return s[i+1:j]\n",
    "        \n",
    "        answer = s[0]\n",
    "        for i in range(len(s)):\n",
    "            for k in range(2):\n",
    "                j = i + k\n",
    "                possible_answer = largestPalindrome(s, i, j)\n",
    "                if len(possible_answer) > len(answer):\n",
    "                    answer = possible_answer\n",
    "        return answer"
   ]
  }
 ],
 "metadata": {
  "kernelspec": {
   "display_name": "Python 3 (ipykernel)",
   "language": "python",
   "name": "python3"
  },
  "language_info": {
   "codemirror_mode": {
    "name": "ipython",
    "version": 3
   },
   "file_extension": ".py",
   "mimetype": "text/x-python",
   "name": "python",
   "nbconvert_exporter": "python",
   "pygments_lexer": "ipython3",
   "version": "3.8.12"
  }
 },
 "nbformat": 4,
 "nbformat_minor": 5
}
