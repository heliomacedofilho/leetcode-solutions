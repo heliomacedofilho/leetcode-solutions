{
 "cells": [
  {
   "cell_type": "code",
   "execution_count": null,
   "id": "a6148583-5588-4098-9257-4b6bfb72d7e2",
   "metadata": {},
   "outputs": [],
   "source": [
    "class Solution:\n",
    "    def romanToInt(self, s: str) -> int:\n",
    "        \n",
    "        translation = {'M': 1000, 'D': 500, 'C': 100, 'L': 50, 'X': 10, 'V': 5, 'I': 1}\n",
    "        sum_result = 0\n",
    "        flagSubtractLastLoop = False\n",
    "        \n",
    "        for i in range(1, len(s), 1):\n",
    "            # Roman numerals are usually written largest to smallest from left to right.\n",
    "            if translation[s[i-1]] >= translation[s[i]]:\n",
    "                if flagSubtractLastLoop is True: \n",
    "                    flagSubtractLastLoop = False\n",
    "                else: \n",
    "                    sum_result += translation[s[i-1]]\n",
    "            else:\n",
    "                if s[i-1] == 'I':\n",
    "                    if s[i] == 'V' or s[i] == 'X':\n",
    "                        sum_result += translation[s[i]] - translation[s[i-1]]\n",
    "                        flagSubtractLastLoop = True\n",
    "                elif s[i-1] == 'X':\n",
    "                    if s[i] == 'L' or s[i] == 'C':\n",
    "                        sum_result += translation[s[i]] - translation[s[i-1]]\n",
    "                        flagSubtractLastLoop = True\n",
    "                elif s[i-1] == 'C':\n",
    "                    if s[i] == 'D' or s[i] == 'M':\n",
    "                        sum_result += translation[s[i]] - translation[s[i-1]]\n",
    "                        flagSubtractLastLoop = True\n",
    "\n",
    "        #Base case\n",
    "        if (len(s) == 1):\n",
    "            sum_result += translation[s[0]]\n",
    "        else:\n",
    "            if flagSubtractLastLoop is False:\n",
    "                sum_result += translation[s[-1]]\n",
    "                \n",
    "        return sum_result"
   ]
  }
 ],
 "metadata": {
  "kernelspec": {
   "display_name": "Python 3 (ipykernel)",
   "language": "python",
   "name": "python3"
  },
  "language_info": {
   "codemirror_mode": {
    "name": "ipython",
    "version": 3
   },
   "file_extension": ".py",
   "mimetype": "text/x-python",
   "name": "python",
   "nbconvert_exporter": "python",
   "pygments_lexer": "ipython3",
   "version": "3.8.12"
  }
 },
 "nbformat": 4,
 "nbformat_minor": 5
}
