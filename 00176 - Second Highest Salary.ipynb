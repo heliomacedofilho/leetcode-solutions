{
 "cells": [
  {
   "cell_type": "code",
   "execution_count": null,
   "id": "a6148583-5588-4098-9257-4b6bfb72d7e2",
   "metadata": {},
   "outputs": [],
   "source": [
    "/* Write your T-SQL query statement below */\n",
    "/*\n",
    "--Solution 01\n",
    "select max(salary) as SecondHighestSalary\n",
    "from employee\n",
    "where salary < (select max(salary) from employee)\n",
    "*/\n",
    "\n",
    "--Solution 02\n",
    "select max(salary) as SecondHighestSalary\n",
    "from \n",
    "(\n",
    "    select dense_rank() over (order by salary desc) as top_rank, salary\n",
    "    from employee\n",
    ") new_employee\n",
    "where new_employee.top_rank = 2"
   ]
  }
 ],
 "metadata": {
  "kernelspec": {
   "display_name": "Python 3 (ipykernel)",
   "language": "python",
   "name": "python3"
  },
  "language_info": {
   "codemirror_mode": {
    "name": "ipython",
    "version": 3
   },
   "file_extension": ".py",
   "mimetype": "text/x-python",
   "name": "python",
   "nbconvert_exporter": "python",
   "pygments_lexer": "ipython3",
   "version": "3.8.12"
  }
 },
 "nbformat": 4,
 "nbformat_minor": 5
}
