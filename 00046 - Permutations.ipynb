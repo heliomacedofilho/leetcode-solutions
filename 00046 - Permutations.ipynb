{
 "cells": [
  {
   "cell_type": "code",
   "execution_count": null,
   "id": "a6148583-5588-4098-9257-4b6bfb72d7e2",
   "metadata": {},
   "outputs": [],
   "source": [
    "class Solution:\n",
    "    def permute(self, nums: List[int]) -> List[List[int]]:\n",
    "        #Solution 01\n",
    "        #n = len(nums)\n",
    "        #if n == 1:\n",
    "        #    return [nums]\n",
    "        #else:\n",
    "        #    final_answer = []\n",
    "        #    partial_answer = self.permute(nums[1:])\n",
    "        #    for partial_permutation in partial_answer:\n",
    "        #        for i in range(len(partial_permutation)+1):\n",
    "        #            final_answer.append(partial_permutation[:i] + [nums[0]] + partial_permutation[i:])\n",
    "        #    return final_answer\n",
    "        \n",
    "        #Solution 02\n",
    "        n = len(nums)\n",
    "        if n == 1:\n",
    "            return [nums[:]]\n",
    "        else:\n",
    "            final_answer = []\n",
    "            for _ in range(n):\n",
    "                num = nums.pop(0)\n",
    "                partial_answer = self.permute(nums)\n",
    "                for partial_permutation in partial_answer:\n",
    "                    partial_permutation.append(num)\n",
    "                final_answer.extend(partial_answer)\n",
    "                nums.append(num)\n",
    "            return final_answer"
   ]
  }
 ],
 "metadata": {
  "kernelspec": {
   "display_name": "Python 3 (ipykernel)",
   "language": "python",
   "name": "python3"
  },
  "language_info": {
   "codemirror_mode": {
    "name": "ipython",
    "version": 3
   },
   "file_extension": ".py",
   "mimetype": "text/x-python",
   "name": "python",
   "nbconvert_exporter": "python",
   "pygments_lexer": "ipython3",
   "version": "3.8.12"
  }
 },
 "nbformat": 4,
 "nbformat_minor": 5
}
