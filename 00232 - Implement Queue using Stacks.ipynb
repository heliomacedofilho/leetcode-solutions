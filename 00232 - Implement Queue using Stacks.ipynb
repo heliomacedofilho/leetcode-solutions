{
 "cells": [
  {
   "cell_type": "code",
   "execution_count": null,
   "id": "a6148583-5588-4098-9257-4b6bfb72d7e2",
   "metadata": {},
   "outputs": [],
   "source": [
    "class MyQueue:\n",
    "\n",
    "    def __init__(self):\n",
    "        self.s1 = []\n",
    "        self.s2 = []\n",
    "    \n",
    "    def push(self, x: int) -> None:\n",
    "        self.s1.append(x)\n",
    "\n",
    "    def pop(self) -> int:\n",
    "        if len(self.s2) > 0:\n",
    "            return self.s2.pop()    \n",
    "        else:\n",
    "            while len(self.s1) > 0:\n",
    "                self.s2.append(self.s1.pop())\n",
    "            return self.s2.pop()    \n",
    "\n",
    "    def peek(self) -> int:\n",
    "        if len(self.s2) > 0:\n",
    "            return self.s2[-1]\n",
    "        else:\n",
    "            while len(self.s1) > 0:\n",
    "                self.s2.append(self.s1.pop())\n",
    "            return self.s2[-1]\n",
    "\n",
    "    def empty(self) -> bool:\n",
    "        return len(self.s1) + len(self.s2) == 0\n",
    "\n",
    "\n",
    "# Your MyQueue object will be instantiated and called as such:\n",
    "# obj = MyQueue()\n",
    "# obj.push(x)\n",
    "# param_2 = obj.pop()\n",
    "# param_3 = obj.peek()\n",
    "# param_4 = obj.empty()"
   ]
  }
 ],
 "metadata": {
  "kernelspec": {
   "display_name": "Python 3 (ipykernel)",
   "language": "python",
   "name": "python3"
  },
  "language_info": {
   "codemirror_mode": {
    "name": "ipython",
    "version": 3
   },
   "file_extension": ".py",
   "mimetype": "text/x-python",
   "name": "python",
   "nbconvert_exporter": "python",
   "pygments_lexer": "ipython3",
   "version": "3.8.12"
  }
 },
 "nbformat": 4,
 "nbformat_minor": 5
}
