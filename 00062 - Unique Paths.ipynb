{
 "cells": [
  {
   "cell_type": "code",
   "execution_count": null,
   "id": "a6148583-5588-4098-9257-4b6bfb72d7e2",
   "metadata": {},
   "outputs": [],
   "source": [
    "class Solution:\n",
    "    def uniquePaths(self, m: int, n: int) -> int:\n",
    "        #answer = [[0] * n for _ in range(m)]\n",
    "        #answer[0] = [1]*n\n",
    "        #for i in range(1,m):\n",
    "        #    answer[i][0] = 1\n",
    "        #    for j in range(1,n):\n",
    "        #        answer[i][j] = (answer[i-1][j] if i > 0 else 0) + (answer[i][j-1] if j > 0 else 0)\n",
    "        #return answer[-1][-1]\n",
    "        \n",
    "        #Solution 02\n",
    "        answer = [1]*n\n",
    "\n",
    "        for i in range(m-1):\n",
    "            for j in range (1, n):\n",
    "                answer[j] += answer[j-1]\n",
    "        \n",
    "        return answer[-1]"
   ]
  }
 ],
 "metadata": {
  "kernelspec": {
   "display_name": "Python 3 (ipykernel)",
   "language": "python",
   "name": "python3"
  },
  "language_info": {
   "codemirror_mode": {
    "name": "ipython",
    "version": 3
   },
   "file_extension": ".py",
   "mimetype": "text/x-python",
   "name": "python",
   "nbconvert_exporter": "python",
   "pygments_lexer": "ipython3",
   "version": "3.8.12"
  }
 },
 "nbformat": 4,
 "nbformat_minor": 5
}
