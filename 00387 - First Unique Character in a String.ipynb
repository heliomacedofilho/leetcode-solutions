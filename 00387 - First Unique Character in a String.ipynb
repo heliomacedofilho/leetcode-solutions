{
 "cells": [
  {
   "cell_type": "code",
   "execution_count": null,
   "id": "a6148583-5588-4098-9257-4b6bfb72d7e2",
   "metadata": {},
   "outputs": [],
   "source": [
    "class Solution:\n",
    "    def firstUniqChar(self, s: str) -> int:\n",
    "        #Solution 01\n",
    "        #table = defaultdict(list)\n",
    "        #for idx, c in enumerate(s):\n",
    "        #    table[c].append(idx)\n",
    "        #\n",
    "        #for c in table:\n",
    "        #    if len(table[c]) == 1:\n",
    "        #        return table[c][0]\n",
    "        #\n",
    "        #return -1\n",
    "        \n",
    "        #Solution 02\n",
    "        letters=string.ascii_lowercase\n",
    "        index=[s.index(l) for l in letters if s.count(l) == 1]\n",
    "        return min(index, default=-1)"
   ]
  }
 ],
 "metadata": {
  "kernelspec": {
   "display_name": "Python 3 (ipykernel)",
   "language": "python",
   "name": "python3"
  },
  "language_info": {
   "codemirror_mode": {
    "name": "ipython",
    "version": 3
   },
   "file_extension": ".py",
   "mimetype": "text/x-python",
   "name": "python",
   "nbconvert_exporter": "python",
   "pygments_lexer": "ipython3",
   "version": "3.8.12"
  }
 },
 "nbformat": 4,
 "nbformat_minor": 5
}
