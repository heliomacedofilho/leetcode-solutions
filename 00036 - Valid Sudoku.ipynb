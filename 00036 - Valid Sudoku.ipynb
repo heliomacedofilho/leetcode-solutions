{
 "cells": [
  {
   "cell_type": "code",
   "execution_count": null,
   "id": "a6148583-5588-4098-9257-4b6bfb72d7e2",
   "metadata": {},
   "outputs": [],
   "source": [
    "class Solution:\n",
    "    def isValidSudoku(self, board: List[List[str]]) -> bool:\n",
    "\n",
    "        table_quadrant = defaultdict(list)\n",
    "\n",
    "        for i in range(3):\n",
    "            for j in range(3):\n",
    "                table_quadrant_row = defaultdict(dict)\n",
    "                table_quadrant_column = defaultdict(dict)\n",
    "                \n",
    "                for k in range(3):\n",
    "                    table_row = defaultdict(int)\n",
    "                    for l in range(3):\n",
    "                        table_row[board[3*i+k][3*j+l]]+=1\n",
    "                    table_quadrant_row[k] = table_row\n",
    "                    \n",
    "                    table_column = defaultdict(int)\n",
    "                    for l in range(3):\n",
    "                        table_column[board[3*i+l][3*j+k]]+=1\n",
    "                    table_quadrant_column[k] = table_column\n",
    "                \n",
    "                table_quadrant[(i, j)] = [table_quadrant_row, table_quadrant_column]\n",
    "        \n",
    "        for i in range(3):\n",
    "            for j in range(3):\n",
    "                for number in range(1, 10, 1):\n",
    "                    freq = 0\n",
    "                    for k in range(3):\n",
    "                        freq += table_quadrant[(i, j)][0][k][str(number)]\n",
    "                    if freq > 1:\n",
    "                        return False      \n",
    "\n",
    "            for number in range(1, 10, 1):\n",
    "                for k in range(3):\n",
    "                    freq = 0\n",
    "                    for j in range(3):\n",
    "                        freq += table_quadrant[(i, j)][0][k][str(number)]\n",
    "                    if freq > 1:\n",
    "                        return False                    \n",
    "            \n",
    "            for k in range(3):\n",
    "                for number in range(1, 10, 1):\n",
    "                    freq = 0\n",
    "                    for j in range(3):\n",
    "                        freq += table_quadrant[(j, i)][1][k][str(number)]\n",
    "                    if freq > 1:\n",
    "                        return False\n",
    "                    \n",
    "        return True"
   ]
  }
 ],
 "metadata": {
  "kernelspec": {
   "display_name": "Python 3 (ipykernel)",
   "language": "python",
   "name": "python3"
  },
  "language_info": {
   "codemirror_mode": {
    "name": "ipython",
    "version": 3
   },
   "file_extension": ".py",
   "mimetype": "text/x-python",
   "name": "python",
   "nbconvert_exporter": "python",
   "pygments_lexer": "ipython3",
   "version": "3.8.12"
  }
 },
 "nbformat": 4,
 "nbformat_minor": 5
}
