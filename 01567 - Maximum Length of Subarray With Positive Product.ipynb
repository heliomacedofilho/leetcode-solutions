{
 "cells": [
  {
   "cell_type": "code",
   "execution_count": null,
   "id": "a6148583-5588-4098-9257-4b6bfb72d7e2",
   "metadata": {},
   "outputs": [],
   "source": [
    "class Solution:\n",
    "    def getMaxLen(self, nums: List[int]) -> int:\n",
    "        \n",
    "        def helper(nums, i, j):\n",
    "            nn = 0\n",
    "            \n",
    "            for k in range(i, j):\n",
    "                if nums[k] < 0:\n",
    "                    nn += 1\n",
    "\n",
    "            if nn % 2 == 0:\n",
    "                return j - i\n",
    "            else:\n",
    "                first_nn, last_nn = 0, 0\n",
    "                for k in range(i, j):\n",
    "                    if nums[k] < 0:\n",
    "                        first_nn = k\n",
    "                        break\n",
    "                for k in range(j-1, i-1, -1):\n",
    "                    if nums[k] < 0:\n",
    "                        last_nn = k\n",
    "                        break\n",
    "                        \n",
    "                return max(last_nn - i, j - first_nn - 1)\n",
    "            \n",
    "\n",
    "        \n",
    "        answer = 0\n",
    "        idx_start = 0\n",
    "        for idx, num in enumerate(nums):\n",
    "            if num == 0:\n",
    "                answer = max(answer, helper(nums, idx_start, idx))\n",
    "                idx_start = idx + 1\n",
    "\n",
    "        return max(answer, helper(nums, idx_start, len(nums)))"
   ]
  }
 ],
 "metadata": {
  "kernelspec": {
   "display_name": "Python 3 (ipykernel)",
   "language": "python",
   "name": "python3"
  },
  "language_info": {
   "codemirror_mode": {
    "name": "ipython",
    "version": 3
   },
   "file_extension": ".py",
   "mimetype": "text/x-python",
   "name": "python",
   "nbconvert_exporter": "python",
   "pygments_lexer": "ipython3",
   "version": "3.8.12"
  }
 },
 "nbformat": 4,
 "nbformat_minor": 5
}
