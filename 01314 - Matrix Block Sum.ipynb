{
 "cells": [
  {
   "cell_type": "code",
   "execution_count": null,
   "id": "a6148583-5588-4098-9257-4b6bfb72d7e2",
   "metadata": {},
   "outputs": [],
   "source": [
    "class Solution:\n",
    "    def matrixBlockSum(self, mat: List[List[int]], k: int) -> List[List[int]]:\n",
    "        \n",
    "        #solution 01\n",
    "        #m = len(mat)\n",
    "        #n = len(mat[0])\n",
    "        #prefix_row = [[0]*n for i in range(m)]\n",
    "        #prefix_column = [[0]*n for i in range(m)]\n",
    "        #for i in range(m):\n",
    "        #    for j in range(n):\n",
    "        #        prefix_row[i][j] = mat[i][j] + (prefix_row[i][j-1] if j > 0 else 0)\n",
    "        #        prefix_column[i][j] = mat[i][j] + (prefix_column[i-1][j] if i > 0 else 0)\n",
    "        #answer = [[0]*n for i in range(m)]\n",
    "        #for i in range(k+1):\n",
    "        #    answer[0][0] += (mat[i][i] if (i < n and i < m) else 0) + (prefix_column[min(i-1, m-1)][i] if (i > 0 and i < n) else 0) + (prefix_row[i][min(i-1, n-1)] if (i > 0 and i < m) else 0)\n",
    "        #for i in range(m):\n",
    "        #    if i > 0:\n",
    "        #        answer[i][0] = answer[i-1][0] +  (prefix_row[i+k][min(k, n-1)] if i+k < m else 0) - (prefix_row[i-(k+1)][min(k, n-1)] if i - (k+1) >= 0 else 0)\n",
    "        #    for j in range(1, n):\n",
    "        #        answer[i][j] = answer[i][j-1] + (prefix_column[min(i+k, m-1)][j+k] - (prefix_column[i-(k+1)][j+k] if i-(k+1) >= 0 else 0) if j+k < n else 0) - ((prefix_column[min(i+k, m-1)][j-(k+1)] - (prefix_column[i-(k+1)][j-(k+1)] if i-(k+1) >= 0 else 0) if j-(k+1) >= 0 else 0))\n",
    "        #return answer\n",
    "        \n",
    "        \n",
    "        #Solution 02\n",
    "        \n",
    "        m = len(mat)\n",
    "        n = len(mat[0])\n",
    "        \n",
    "        cummulative_matrix = [[0]*n for _ in range(m)]\n",
    "        \n",
    "        for i in range (m):\n",
    "            cummulative_row = 0\n",
    "            for j in range(n):\n",
    "                cummulative_row += mat[i][j]\n",
    "                cummulative_matrix[i][j] = cummulative_row + (cummulative_matrix[i-1][j] if i > 0 else 0)\n",
    "                \n",
    "        answer = [[0]*n for _ in range(m)]\n",
    "        for i in range(m):\n",
    "            for j in range(n):\n",
    "                answer[i][j] = cummulative_matrix[min(i+k, m-1)][min(j+k, n-1)] - (cummulative_matrix[min(i+k, m-1)][j-k-1] if j-k>0 else 0) - (cummulative_matrix[i-k-1][min(j+k, n-1)] if i-k > 0 else 0) + (cummulative_matrix[i-k-1][j-k-1] if (i-k > 0 and j-k > 0) else 0)\n",
    "                \n",
    "        return answer"
   ]
  }
 ],
 "metadata": {
  "kernelspec": {
   "display_name": "Python 3 (ipykernel)",
   "language": "python",
   "name": "python3"
  },
  "language_info": {
   "codemirror_mode": {
    "name": "ipython",
    "version": 3
   },
   "file_extension": ".py",
   "mimetype": "text/x-python",
   "name": "python",
   "nbconvert_exporter": "python",
   "pygments_lexer": "ipython3",
   "version": "3.8.12"
  }
 },
 "nbformat": 4,
 "nbformat_minor": 5
}
