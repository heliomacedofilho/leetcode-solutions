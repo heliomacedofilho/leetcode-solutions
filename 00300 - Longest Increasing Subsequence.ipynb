{
 "cells": [
  {
   "cell_type": "code",
   "execution_count": null,
   "id": "a6148583-5588-4098-9257-4b6bfb72d7e2",
   "metadata": {},
   "outputs": [],
   "source": [
    "class Solution:\n",
    "    def lengthOfLIS(self, nums: List[int]) -> int:\n",
    "        def binary_search(arr, target):\n",
    "            i, j = 0, len(arr) - 1\n",
    "            while (i <= j):\n",
    "                m = (i+j)//2\n",
    "                if arr[m] == target:\n",
    "                    return m\n",
    "                elif arr[m] < target:\n",
    "                    i = m + 1\n",
    "                else:\n",
    "                    j = m - 1\n",
    "            return i\n",
    "        \n",
    "        answer = [nums[0]]\n",
    "        for i in range(len(nums)):\n",
    "            if nums[i] > answer[-1]:\n",
    "                answer.append(nums[i])\n",
    "            else:\n",
    "                answer[binary_search(answer, nums[i])] = nums[i]\n",
    "\n",
    "        return len(answer)\n",
    "            "
   ]
  }
 ],
 "metadata": {
  "kernelspec": {
   "display_name": "Python 3 (ipykernel)",
   "language": "python",
   "name": "python3"
  },
  "language_info": {
   "codemirror_mode": {
    "name": "ipython",
    "version": 3
   },
   "file_extension": ".py",
   "mimetype": "text/x-python",
   "name": "python",
   "nbconvert_exporter": "python",
   "pygments_lexer": "ipython3",
   "version": "3.8.12"
  }
 },
 "nbformat": 4,
 "nbformat_minor": 5
}
