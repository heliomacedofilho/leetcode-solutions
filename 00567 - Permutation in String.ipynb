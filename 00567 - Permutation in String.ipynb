{
 "cells": [
  {
   "cell_type": "code",
   "execution_count": null,
   "id": "a6148583-5588-4098-9257-4b6bfb72d7e2",
   "metadata": {},
   "outputs": [],
   "source": [
    "class Solution:\n",
    "    def checkInclusion(self, s1: str, s2: str) -> bool:\n",
    "\n",
    "        n = len(s1)\n",
    "        table_s1 = defaultdict(int)\n",
    "        for c in s1:\n",
    "            table_s1[c]+=1\n",
    "        \n",
    "        window = defaultdict(int)\n",
    "        for c in s2[:n-1]:\n",
    "            window[c]+=1\n",
    "        \n",
    "        for i, c in enumerate(s2[n-1:]):\n",
    "            window[c]+=1\n",
    "            if all([table_s1[c] == window[c] for c in table_s1]): return True\n",
    "            window[s2[i]]-=1\n",
    "            \n",
    "        return False"
   ]
  }
 ],
 "metadata": {
  "kernelspec": {
   "display_name": "Python 3 (ipykernel)",
   "language": "python",
   "name": "python3"
  },
  "language_info": {
   "codemirror_mode": {
    "name": "ipython",
    "version": 3
   },
   "file_extension": ".py",
   "mimetype": "text/x-python",
   "name": "python",
   "nbconvert_exporter": "python",
   "pygments_lexer": "ipython3",
   "version": "3.8.12"
  }
 },
 "nbformat": 4,
 "nbformat_minor": 5
}
