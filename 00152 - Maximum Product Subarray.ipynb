{
 "cells": [
  {
   "cell_type": "code",
   "execution_count": null,
   "id": "a6148583-5588-4098-9257-4b6bfb72d7e2",
   "metadata": {},
   "outputs": [],
   "source": [
    "class Solution:\n",
    "    def maxProduct(self, nums: List[int]) -> int:\n",
    "        \n",
    "        def largestSubArray(nums: List[int]) -> int:\n",
    "        \n",
    "            prefix_product = nums[0]\n",
    "            final_product = nums[0]\n",
    "            min_negative_product = min(0, nums[0])\n",
    "            \n",
    "            for i in range(1, len(nums)):\n",
    "                prefix_product = nums[i] * prefix_product\n",
    "\n",
    "                if prefix_product > 0:\n",
    "                    final_product = prefix_product\n",
    "                else:\n",
    "                    if min_negative_product != 0:\n",
    "                        final_product = max(final_product, prefix_product // min_negative_product)\n",
    "                        min_negative_product = max(min_negative_product, prefix_product)\n",
    "                    else:\n",
    "                        min_negative_product = prefix_product\n",
    "\n",
    "            return final_product\n",
    "\n",
    "        answer = -11\n",
    "        start, end = 0, 0\n",
    "        for i in range(len(nums)):\n",
    "            if nums[i] == 0:\n",
    "                end = i\n",
    "                answer = max(0, answer) if end == start else max(0, answer, largestSubArray(nums[start:end])) \n",
    "                start = i+1\n",
    "           \n",
    "        return answer if start > len(nums) - 1 else max(answer, largestSubArray(nums[start:]))"
   ]
  }
 ],
 "metadata": {
  "kernelspec": {
   "display_name": "Python 3 (ipykernel)",
   "language": "python",
   "name": "python3"
  },
  "language_info": {
   "codemirror_mode": {
    "name": "ipython",
    "version": 3
   },
   "file_extension": ".py",
   "mimetype": "text/x-python",
   "name": "python",
   "nbconvert_exporter": "python",
   "pygments_lexer": "ipython3",
   "version": "3.8.12"
  }
 },
 "nbformat": 4,
 "nbformat_minor": 5
}
