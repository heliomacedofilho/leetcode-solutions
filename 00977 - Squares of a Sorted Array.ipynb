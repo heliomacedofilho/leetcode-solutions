{
 "cells": [
  {
   "cell_type": "code",
   "execution_count": null,
   "id": "a6148583-5588-4098-9257-4b6bfb72d7e2",
   "metadata": {},
   "outputs": [],
   "source": [
    "class Solution:\n",
    "    def sortedSquares(self, nums: List[int]) -> List[int]:\n",
    "\n",
    "        answer = [0]*len(nums)\n",
    "\n",
    "        i, j = 0, len(nums)-1\n",
    "        \n",
    "        m = j\n",
    "\n",
    "        while (i<=j):\n",
    "            if abs(nums[i]) > abs(nums[j]):\n",
    "                answer[m] = pow(nums[i], 2)\n",
    "                i+=1\n",
    "            else:\n",
    "                answer[m] = pow(nums[j], 2)\n",
    "                j-=1\n",
    "            m-=1\n",
    "            \n",
    "        return answer"
   ]
  }
 ],
 "metadata": {
  "kernelspec": {
   "display_name": "Python 3 (ipykernel)",
   "language": "python",
   "name": "python3"
  },
  "language_info": {
   "codemirror_mode": {
    "name": "ipython",
    "version": 3
   },
   "file_extension": ".py",
   "mimetype": "text/x-python",
   "name": "python",
   "nbconvert_exporter": "python",
   "pygments_lexer": "ipython3",
   "version": "3.8.12"
  }
 },
 "nbformat": 4,
 "nbformat_minor": 5
}
