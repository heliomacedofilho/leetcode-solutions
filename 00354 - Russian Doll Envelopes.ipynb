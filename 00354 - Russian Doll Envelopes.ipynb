{
 "cells": [
  {
   "cell_type": "code",
   "execution_count": null,
   "id": "a6148583-5588-4098-9257-4b6bfb72d7e2",
   "metadata": {},
   "outputs": [],
   "source": [
    "class Solution:\n",
    "    def maxEnvelopes(self, envelopes: List[List[int]]) -> int:\n",
    "\n",
    "        envelopes.sort(key=lambda x: (x[0], -x[1]))\n",
    "        \n",
    "        LIS = []\n",
    "        for _, h in envelopes:\n",
    "            index = bisect_left(LIS, h)\n",
    "            if len(LIS) == index:\n",
    "                LIS.append(h)\n",
    "            else:\n",
    "                LIS[index] = h\n",
    "        \n",
    "        return len(LIS)\n",
    "        \n",
    "        "
   ]
  }
 ],
 "metadata": {
  "kernelspec": {
   "display_name": "Python 3 (ipykernel)",
   "language": "python",
   "name": "python3"
  },
  "language_info": {
   "codemirror_mode": {
    "name": "ipython",
    "version": 3
   },
   "file_extension": ".py",
   "mimetype": "text/x-python",
   "name": "python",
   "nbconvert_exporter": "python",
   "pygments_lexer": "ipython3",
   "version": "3.8.12"
  }
 },
 "nbformat": 4,
 "nbformat_minor": 5
}
