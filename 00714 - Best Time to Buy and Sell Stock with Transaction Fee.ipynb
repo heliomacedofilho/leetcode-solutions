{
 "cells": [
  {
   "cell_type": "code",
   "execution_count": null,
   "id": "a6148583-5588-4098-9257-4b6bfb72d7e2",
   "metadata": {},
   "outputs": [],
   "source": [
    "class Solution:\n",
    "    def maxProfit(self, prices: List[int], fee: int) -> int:\n",
    "        if len(prices) < 2: return 0\n",
    "        \n",
    "        has_share, no_share = -prices[0], 0\n",
    "\n",
    "        for i in range(1, len(prices)):\n",
    "            has_share = max(has_share, no_share-prices[i])\n",
    "            no_share = max(no_share, has_share+prices[i]-fee)\n",
    "\n",
    "        return no_share"
   ]
  }
 ],
 "metadata": {
  "kernelspec": {
   "display_name": "Python 3 (ipykernel)",
   "language": "python",
   "name": "python3"
  },
  "language_info": {
   "codemirror_mode": {
    "name": "ipython",
    "version": 3
   },
   "file_extension": ".py",
   "mimetype": "text/x-python",
   "name": "python",
   "nbconvert_exporter": "python",
   "pygments_lexer": "ipython3",
   "version": "3.8.12"
  }
 },
 "nbformat": 4,
 "nbformat_minor": 5
}
