{
 "cells": [
  {
   "cell_type": "code",
   "execution_count": null,
   "id": "a6148583-5588-4098-9257-4b6bfb72d7e2",
   "metadata": {},
   "outputs": [],
   "source": [
    "class Solution:\n",
    "    def maxScoreSightseeingPair(self, values: List[int]) -> int:\n",
    "        #Solution 01\n",
    "        #dp = [0]*(len(values))\n",
    "        #for i in range(len(values)-2, -1, -1):\n",
    "        #    dp[i] = max(values[i] + values[i+1] - 1, values[i] - values[i+1] + dp[i+1] - 1)\n",
    "        #return max(dp)\n",
    "        \n",
    "        #Solution 02\n",
    "        previous_best_value_with_penalty = values[0] - 1\n",
    "        answer = 0\n",
    "        for i in range(1, len(values)):\n",
    "            score = values[i] + previous_best_value_with_penalty\n",
    "            answer = max(answer, score)\n",
    "            previous_best_value_with_penalty = max(values[i], previous_best_value_with_penalty) - 1\n",
    "        return answer"
   ]
  }
 ],
 "metadata": {
  "kernelspec": {
   "display_name": "Python 3 (ipykernel)",
   "language": "python",
   "name": "python3"
  },
  "language_info": {
   "codemirror_mode": {
    "name": "ipython",
    "version": 3
   },
   "file_extension": ".py",
   "mimetype": "text/x-python",
   "name": "python",
   "nbconvert_exporter": "python",
   "pygments_lexer": "ipython3",
   "version": "3.8.12"
  }
 },
 "nbformat": 4,
 "nbformat_minor": 5
}
