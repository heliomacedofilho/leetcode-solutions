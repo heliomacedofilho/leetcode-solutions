{
 "cells": [
  {
   "cell_type": "code",
   "execution_count": null,
   "id": "a6148583-5588-4098-9257-4b6bfb72d7e2",
   "metadata": {},
   "outputs": [],
   "source": [
    "class Solution:\n",
    "    def intersect(self, nums1: List[int], nums2: List[int]) -> List[int]:\n",
    "        def binary_search(arr, target):\n",
    "            i, j = 0, len(arr) - 1\n",
    "            while (i<=j):\n",
    "                m = (i+j)//2\n",
    "                if arr[m] < target:\n",
    "                    i = m + 1\n",
    "                else:\n",
    "                    j = m - 1\n",
    "            return i\n",
    "        if len(nums2) > len(nums1):\n",
    "            nums1, nums2 = nums2, nums1\n",
    "            \n",
    "        nums2.sort()\n",
    "        answer = []\n",
    "        for num1 in nums1:\n",
    "            idx_nums2 = binary_search(nums2, num1)\n",
    "            if idx_nums2 < len(nums2):\n",
    "                if num1 == nums2[idx_nums2]:\n",
    "                    answer.append(nums2.pop(idx_nums2))\n",
    "        return answer"
   ]
  }
 ],
 "metadata": {
  "kernelspec": {
   "display_name": "Python 3 (ipykernel)",
   "language": "python",
   "name": "python3"
  },
  "language_info": {
   "codemirror_mode": {
    "name": "ipython",
    "version": 3
   },
   "file_extension": ".py",
   "mimetype": "text/x-python",
   "name": "python",
   "nbconvert_exporter": "python",
   "pygments_lexer": "ipython3",
   "version": "3.8.12"
  }
 },
 "nbformat": 4,
 "nbformat_minor": 5
}
