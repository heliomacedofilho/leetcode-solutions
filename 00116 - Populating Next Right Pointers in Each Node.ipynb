{
 "cells": [
  {
   "cell_type": "code",
   "execution_count": null,
   "id": "a6148583-5588-4098-9257-4b6bfb72d7e2",
   "metadata": {},
   "outputs": [],
   "source": [
    "\"\"\"\n",
    "# Definition for a Node.\n",
    "class Node:\n",
    "    def __init__(self, val: int = 0, left: 'Node' = None, right: 'Node' = None, next: 'Node' = None):\n",
    "        self.val = val\n",
    "        self.left = left\n",
    "        self.right = right\n",
    "        self.next = next\n",
    "\"\"\"\n",
    "\n",
    "class Solution:\n",
    "    def connect(self, root: 'Optional[Node]') -> 'Optional[Node]':\n",
    "        \n",
    "        #Solution 01: (extra-space O(n))\n",
    "        #if root is None: return root\n",
    "        #s1 = [root]\n",
    "        #s2 = []\n",
    "        #while (len(s1) > 0):\n",
    "        #    for i in range(len(s1)-1):\n",
    "        #        s1[i].next = s1[i+1]\n",
    "        #    if s1[0].left:\n",
    "        #        for i in s1:\n",
    "        #            s2.append(i.left)\n",
    "        #            s2.append(i.right)\n",
    "        #    s1, s2 = s2, []\n",
    "        #return root\n",
    "        \n",
    "        #Solution 02: (recursion + extra-space O(1))\n",
    "        #if root is None: return None\n",
    "        #leftNode = root.left\n",
    "        #rightNode = root.right\n",
    "        #while leftNode and rightNode:\n",
    "        #    leftNode.next = rightNode\n",
    "        #    leftNode = leftNode.right\n",
    "        #    rightNode = rightNode.left\n",
    "        #self.connect(root.left)\n",
    "        #self.connect(root.right)\n",
    "        #return root\n",
    "    \n",
    "        #Solution 03: (extra-space O(1))\n",
    "        if root is None: return None\n",
    "        leftNode = root\n",
    "        while leftNode.left:\n",
    "            parent = leftNode\n",
    "            while (parent):\n",
    "                parent.left.next = parent.right\n",
    "                if parent.next:\n",
    "                    parent.right.next = parent.next.left\n",
    "                parent = parent.next\n",
    "            leftNode = leftNode.left\n",
    "        return root"
   ]
  }
 ],
 "metadata": {
  "kernelspec": {
   "display_name": "Python 3 (ipykernel)",
   "language": "python",
   "name": "python3"
  },
  "language_info": {
   "codemirror_mode": {
    "name": "ipython",
    "version": 3
   },
   "file_extension": ".py",
   "mimetype": "text/x-python",
   "name": "python",
   "nbconvert_exporter": "python",
   "pygments_lexer": "ipython3",
   "version": "3.8.12"
  }
 },
 "nbformat": 4,
 "nbformat_minor": 5
}
