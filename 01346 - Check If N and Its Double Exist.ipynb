{
 "cells": [
  {
   "cell_type": "code",
   "execution_count": null,
   "id": "a6148583-5588-4098-9257-4b6bfb72d7e2",
   "metadata": {},
   "outputs": [],
   "source": [
    "class Solution:\n",
    "    def checkIfExist(self, arr: List[int]) -> bool:\n",
    "        #Solution 01\n",
    "        #def binary_search(arr, target):\n",
    "        #    i, j = 0, len(arr) - 1\n",
    "        #    while (i<=j):\n",
    "        #        m = (i+j)//2\n",
    "        #        if arr[m] < target:\n",
    "        #            i=m+1\n",
    "        #        else:\n",
    "        #            j=m-1\n",
    "        #    return i\n",
    "        #arr.sort()\n",
    "        #for i in range(len(arr)):\n",
    "        #    idx = binary_search(arr, 2*arr[i])\n",
    "        #    if idx == len(arr):\n",
    "        #        continue\n",
    "        #    if 2*arr[i]==arr[idx] and i != idx:\n",
    "        #        return True\n",
    "        #return False\n",
    "        \n",
    "        #Solution 02\n",
    "        table = defaultdict(int)\n",
    "        for num in arr:\n",
    "            if num*2 in table or num/2 in table:\n",
    "                return True\n",
    "            else:\n",
    "                table[num]=1\n",
    "        return False"
   ]
  }
 ],
 "metadata": {
  "kernelspec": {
   "display_name": "Python 3 (ipykernel)",
   "language": "python",
   "name": "python3"
  },
  "language_info": {
   "codemirror_mode": {
    "name": "ipython",
    "version": 3
   },
   "file_extension": ".py",
   "mimetype": "text/x-python",
   "name": "python",
   "nbconvert_exporter": "python",
   "pygments_lexer": "ipython3",
   "version": "3.8.12"
  }
 },
 "nbformat": 4,
 "nbformat_minor": 5
}
