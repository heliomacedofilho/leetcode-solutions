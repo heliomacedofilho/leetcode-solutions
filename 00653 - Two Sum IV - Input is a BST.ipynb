{
 "cells": [
  {
   "cell_type": "code",
   "execution_count": null,
   "id": "a6148583-5588-4098-9257-4b6bfb72d7e2",
   "metadata": {},
   "outputs": [],
   "source": [
    "# Definition for a binary tree node.\n",
    "# class TreeNode:\n",
    "#     def __init__(self, val=0, left=None, right=None):\n",
    "#         self.val = val\n",
    "#         self.left = left\n",
    "#         self.right = right\n",
    "class Solution:\n",
    "    def findTarget(self, root: Optional[TreeNode], k: int) -> bool:\n",
    "        \n",
    "        def find_number(root, number):\n",
    "            if root:\n",
    "                if number == root.val:\n",
    "                    return True\n",
    "                elif number < root.val:\n",
    "                    return find_number(root.left, number)\n",
    "                else:\n",
    "                    return find_number(root.right, number)\n",
    "            else:\n",
    "                return False\n",
    "            \n",
    "        def helper(root, node, k):\n",
    "            if node:\n",
    "                return (k!= 2*node.val and find_number(root, k-node.val)) or helper(root, node.left, k) or helper(root, node.right, k)\n",
    "            else:\n",
    "                return False\n",
    "        \n",
    "        return helper(root, root, k)"
   ]
  }
 ],
 "metadata": {
  "kernelspec": {
   "display_name": "Python 3 (ipykernel)",
   "language": "python",
   "name": "python3"
  },
  "language_info": {
   "codemirror_mode": {
    "name": "ipython",
    "version": 3
   },
   "file_extension": ".py",
   "mimetype": "text/x-python",
   "name": "python",
   "nbconvert_exporter": "python",
   "pygments_lexer": "ipython3",
   "version": "3.8.12"
  }
 },
 "nbformat": 4,
 "nbformat_minor": 5
}
