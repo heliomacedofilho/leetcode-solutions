{
 "cells": [
  {
   "cell_type": "code",
   "execution_count": null,
   "id": "a6148583-5588-4098-9257-4b6bfb72d7e2",
   "metadata": {},
   "outputs": [],
   "source": [
    "class Solution:\n",
    "    def orangesRotting(self, grid: List[List[int]]) -> int:\n",
    "\n",
    "        s1 = []\n",
    "        s2 = []\n",
    "        time = 0\n",
    "        fresh = set()\n",
    "        for i in range(len(grid)):\n",
    "            for j in range(len(grid[0])):\n",
    "                if grid[i][j] == 2:\n",
    "                    s1.append((i,j))\n",
    "                elif grid[i][j] == 1:\n",
    "                    fresh.add((i, j))\n",
    "        \n",
    "\n",
    "        while (s1):\n",
    "            (i,j) = s1.pop()\n",
    "            if grid[i][j] == 2:\n",
    "                if i > 0 and grid[i-1][j] == 1:\n",
    "                    grid[i-1][j] = 2\n",
    "                    fresh.remove((i-1, j))\n",
    "                    s2.append((i-1, j))\n",
    "                if j > 0 and grid[i][j-1] == 1:\n",
    "                    grid[i][j-1] = 2\n",
    "                    fresh.remove((i, j-1))\n",
    "                    s2.append((i, j-1))\n",
    "                if i < len(grid) - 1 and grid[i+1][j] == 1:\n",
    "                    grid[i+1][j] = 2\n",
    "                    fresh.remove((i+1, j))\n",
    "                    s2.append((i+1, j))\n",
    "                if j < len(grid[0]) - 1 and grid[i][j+1] == 1:\n",
    "                    grid[i][j+1] = 2\n",
    "                    fresh.remove((i, j+1))\n",
    "                    s2.append((i, j+1))\n",
    "\n",
    "            if not s1 and s2:\n",
    "                    s1, s2 = s2, []\n",
    "                    time+=1\n",
    "                \n",
    "                \n",
    "        if fresh:\n",
    "            return -1\n",
    "        else:\n",
    "            return time"
   ]
  }
 ],
 "metadata": {
  "kernelspec": {
   "display_name": "Python 3 (ipykernel)",
   "language": "python",
   "name": "python3"
  },
  "language_info": {
   "codemirror_mode": {
    "name": "ipython",
    "version": 3
   },
   "file_extension": ".py",
   "mimetype": "text/x-python",
   "name": "python",
   "nbconvert_exporter": "python",
   "pygments_lexer": "ipython3",
   "version": "3.8.12"
  }
 },
 "nbformat": 4,
 "nbformat_minor": 5
}
