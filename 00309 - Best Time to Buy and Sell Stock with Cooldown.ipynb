{
 "cells": [
  {
   "cell_type": "code",
   "execution_count": null,
   "id": "a6148583-5588-4098-9257-4b6bfb72d7e2",
   "metadata": {},
   "outputs": [],
   "source": [
    "class Solution:\n",
    "    def maxProfit(self, prices: List[int]) -> int:\n",
    "        #Solution 01\n",
    "        #@cache\n",
    "        #def helper(i, last_transaction = ''):\n",
    "        #    if i == len(prices) - 1:\n",
    "        #        if last_transaction == 'B':\n",
    "        #            return prices[i] - prices[i-1]\n",
    "        #        else:\n",
    "        #            return 0\n",
    "        #    else:\n",
    "        #        if last_transaction == 'B':\n",
    "        #            return prices[i] - prices[i-1] + max(helper(i+1, 'B'), helper(i+1, 'S'))\n",
    "        #        elif last_transaction == 'S':\n",
    "        #            return helper(i+1, 'C')\n",
    "        #        else:\n",
    "        #            return max(helper(i+1, 'B'), helper(i+1, 'C'))\n",
    "        # \n",
    "        #return helper(0)\n",
    "        \n",
    "        \n",
    "        if len(prices) < 2: return 0\n",
    "        \n",
    "        wait_with_share, wait_with_no_share, sell, buy = -prices[0], 0, 0, -prices[0]\n",
    "\n",
    "        for i in range(1, len(prices)):\n",
    "            old_wait_with_share, old_wait_with_no_share, old_sell, old_buy = wait_with_share, wait_with_no_share, sell, buy\n",
    "            \n",
    "            wait_with_share = max(old_wait_with_share, old_buy)\n",
    "            wait_with_no_share = max(old_wait_with_no_share, old_sell)\n",
    "            sell = prices[i] + max(old_buy, old_wait_with_share)\n",
    "            buy = -prices[i] + old_wait_with_no_share        \n",
    "\n",
    "        return max(sell, wait_with_no_share)"
   ]
  }
 ],
 "metadata": {
  "kernelspec": {
   "display_name": "Python 3 (ipykernel)",
   "language": "python",
   "name": "python3"
  },
  "language_info": {
   "codemirror_mode": {
    "name": "ipython",
    "version": 3
   },
   "file_extension": ".py",
   "mimetype": "text/x-python",
   "name": "python",
   "nbconvert_exporter": "python",
   "pygments_lexer": "ipython3",
   "version": "3.8.12"
  }
 },
 "nbformat": 4,
 "nbformat_minor": 5
}
