{
 "cells": [
  {
   "cell_type": "code",
   "execution_count": null,
   "id": "a6148583-5588-4098-9257-4b6bfb72d7e2",
   "metadata": {},
   "outputs": [],
   "source": [
    "# Definition for singly-linked list.\n",
    "# class ListNode:\n",
    "#     def __init__(self, val=0, next=None):\n",
    "#         self.val = val\n",
    "#         self.next = next\n",
    "class Solution:\n",
    "    def middleNode(self, head: Optional[ListNode]) -> Optional[ListNode]:\n",
    "        \n",
    "        #Solution 01\n",
    "        #def helper(head, i):\n",
    "        #    if head is None:\n",
    "        #        return (i, None)\n",
    "        #    (size, node) = helper(head.next, i+1)\n",
    "        #    if i == size//2:\n",
    "        #        return (size, head)\n",
    "        #    return (size, node)\n",
    "        #    \n",
    "        #_, head = helper(head, 0)\n",
    "        #return head\n",
    "        \n",
    "        #Solution 02\n",
    "        slow_pointer = head\n",
    "        fast_pointer = head.next\n",
    "        while fast_pointer is not None:\n",
    "            slow_pointer = slow_pointer.next\n",
    "            if fast_pointer.next is not None:\n",
    "                fast_pointer = fast_pointer.next.next\n",
    "            else:\n",
    "                return slow_pointer\n",
    "        return slow_pointer"
   ]
  }
 ],
 "metadata": {
  "kernelspec": {
   "display_name": "Python 3 (ipykernel)",
   "language": "python",
   "name": "python3"
  },
  "language_info": {
   "codemirror_mode": {
    "name": "ipython",
    "version": 3
   },
   "file_extension": ".py",
   "mimetype": "text/x-python",
   "name": "python",
   "nbconvert_exporter": "python",
   "pygments_lexer": "ipython3",
   "version": "3.8.12"
  }
 },
 "nbformat": 4,
 "nbformat_minor": 5
}
