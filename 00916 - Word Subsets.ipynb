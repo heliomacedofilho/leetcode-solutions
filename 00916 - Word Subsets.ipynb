{
 "cells": [
  {
   "cell_type": "code",
   "execution_count": null,
   "id": "a6148583-5588-4098-9257-4b6bfb72d7e2",
   "metadata": {},
   "outputs": [],
   "source": [
    "class Solution:\n",
    "    def wordSubsets(self, words1: List[str], words2: List[str]) -> List[str]:\n",
    "        \n",
    "        dict_letters_words2 = defaultdict(int)\n",
    "        for word in words2:\n",
    "            dict_word = defaultdict(int)\n",
    "            for letter in word:\n",
    "                dict_word[letter] += 1\n",
    "            for letter in dict_word:\n",
    "                dict_letters_words2[letter] = max(dict_letters_words2[letter], dict_word[letter])\n",
    "        \n",
    "        \n",
    "        universal_strings = []\n",
    "        \n",
    "        for word in words1:\n",
    "            dict_word = defaultdict(int)\n",
    "            for letter in word:\n",
    "                dict_word[letter] += 1\n",
    "            if all([letter in dict_word and dict_letters_words2[letter] <= dict_word[letter] for letter in dict_letters_words2]):\n",
    "                universal_strings.append(word)\n",
    "        \n",
    "\n",
    "        return universal_strings"
   ]
  }
 ],
 "metadata": {
  "kernelspec": {
   "display_name": "Python 3 (ipykernel)",
   "language": "python",
   "name": "python3"
  },
  "language_info": {
   "codemirror_mode": {
    "name": "ipython",
    "version": 3
   },
   "file_extension": ".py",
   "mimetype": "text/x-python",
   "name": "python",
   "nbconvert_exporter": "python",
   "pygments_lexer": "ipython3",
   "version": "3.8.12"
  }
 },
 "nbformat": 4,
 "nbformat_minor": 5
}
