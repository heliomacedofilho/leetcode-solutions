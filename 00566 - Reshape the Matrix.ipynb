{
 "cells": [
  {
   "cell_type": "code",
   "execution_count": null,
   "id": "a6148583-5588-4098-9257-4b6bfb72d7e2",
   "metadata": {},
   "outputs": [],
   "source": [
    "class Solution:\n",
    "    def matrixReshape(self, mat: List[List[int]], r: int, c: int) -> List[List[int]]:\n",
    "        \n",
    "        r_mat, c_mat = len(mat), len(mat[0])\n",
    "        if r_mat*c_mat != r*c:\n",
    "            return mat\n",
    "        else:\n",
    "            #%output_mat = [[0]*c for _ in range(r)]\n",
    "            #for i in range(c*r):\n",
    "            #    output_mat[i // c][i % c] = mat[i // c_mat][i % c_mat]\n",
    "            #return output_mat\n",
    "            \n",
    "            output_mat = []\n",
    "            output_row = []\n",
    "            for i in range(r_mat):\n",
    "                for j in range(c_mat):\n",
    "                    output_row.append(mat[i][j])\n",
    "                    if len(output_row) == c:\n",
    "                        output_mat.append(output_row)\n",
    "                        output_row = []\n",
    "            return output_mat"
   ]
  }
 ],
 "metadata": {
  "kernelspec": {
   "display_name": "Python 3 (ipykernel)",
   "language": "python",
   "name": "python3"
  },
  "language_info": {
   "codemirror_mode": {
    "name": "ipython",
    "version": 3
   },
   "file_extension": ".py",
   "mimetype": "text/x-python",
   "name": "python",
   "nbconvert_exporter": "python",
   "pygments_lexer": "ipython3",
   "version": "3.8.12"
  }
 },
 "nbformat": 4,
 "nbformat_minor": 5
}
