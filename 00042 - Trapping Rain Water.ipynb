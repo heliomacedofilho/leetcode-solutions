{
 "cells": [
  {
   "cell_type": "code",
   "execution_count": null,
   "id": "a6148583-5588-4098-9257-4b6bfb72d7e2",
   "metadata": {},
   "outputs": [],
   "source": [
    "class Solution:\n",
    "    def trap(self, height: List[int]) -> int:\n",
    "        answer=0\n",
    "        left_pointer = 0\n",
    "        left_maximal_height = 0\n",
    "        right_maximal_height = 0\n",
    "        right_pointer = len(height) -1\n",
    "        \n",
    "        while left_pointer <= right_pointer:\n",
    "            if left_maximal_height <= right_maximal_height:\n",
    "                if height[left_pointer] >= left_maximal_height:\n",
    "                    left_maximal_height = height[left_pointer]\n",
    "                else:\n",
    "                    answer+=left_maximal_height-height[left_pointer]\n",
    "                left_pointer+=1\n",
    "            else:\n",
    "                if height[right_pointer] >= right_maximal_height:\n",
    "                    right_maximal_height = height[right_pointer]\n",
    "                else:\n",
    "                    answer+=right_maximal_height-height[right_pointer]\n",
    "                right_pointer-=1\n",
    "\n",
    "        return answer"
   ]
  }
 ],
 "metadata": {
  "kernelspec": {
   "display_name": "Python 3 (ipykernel)",
   "language": "python",
   "name": "python3"
  },
  "language_info": {
   "codemirror_mode": {
    "name": "ipython",
    "version": 3
   },
   "file_extension": ".py",
   "mimetype": "text/x-python",
   "name": "python",
   "nbconvert_exporter": "python",
   "pygments_lexer": "ipython3",
   "version": "3.8.12"
  }
 },
 "nbformat": 4,
 "nbformat_minor": 5
}
