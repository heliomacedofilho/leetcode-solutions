{
 "cells": [
  {
   "cell_type": "code",
   "execution_count": null,
   "id": "a6148583-5588-4098-9257-4b6bfb72d7e2",
   "metadata": {},
   "outputs": [],
   "source": [
    "class Solution:\n",
    "    def combine(self, n: int, k: int) -> List[List[int]]:\n",
    "        \n",
    "        #iterative\n",
    "        #final_answer = [[i] for i in range(1, n+1)]\n",
    "        #for _ in range(k-1):\n",
    "        #    partial_answer = []\n",
    "        #    for sub_answer in final_answer:\n",
    "        #        for j in range(sub_answer[-1]+1, n+1):\n",
    "        #            partial_answer.append(sub_answer + [j])\n",
    "        #    final_answer = partial_answer\n",
    "        #return final_answer\n",
    "            \n",
    "        #recursive\n",
    "        if k == 1:\n",
    "            return [[i] for i in range(1, n + 1)]\n",
    "        else:\n",
    "            final_answer = []\n",
    "            for partial_answer in self.combine(n - 1, k - 1):\n",
    "                for j in range(partial_answer[-1] + 1, n + 1):\n",
    "                    final_answer.append(partial_answer + [j])\n",
    "            return final_answer\n",
    "                "
   ]
  }
 ],
 "metadata": {
  "kernelspec": {
   "display_name": "Python 3 (ipykernel)",
   "language": "python",
   "name": "python3"
  },
  "language_info": {
   "codemirror_mode": {
    "name": "ipython",
    "version": 3
   },
   "file_extension": ".py",
   "mimetype": "text/x-python",
   "name": "python",
   "nbconvert_exporter": "python",
   "pygments_lexer": "ipython3",
   "version": "3.8.12"
  }
 },
 "nbformat": 4,
 "nbformat_minor": 5
}
