{
 "cells": [
  {
   "cell_type": "code",
   "execution_count": null,
   "id": "a6148583-5588-4098-9257-4b6bfb72d7e2",
   "metadata": {},
   "outputs": [],
   "source": [
    "class Solution:\n",
    "    def minDistance(self, word1: str, word2: str) -> int:\n",
    "        #Solution 01 (Dynamic Programming)\n",
    "        if not len(word1) or not len(word2):\n",
    "            return len(word2) + len(word1)\n",
    "\n",
    "        dp = [[0]*len(word2) for _ in range(len(word1))]\n",
    "        \n",
    "        dp[0][0] = 0 if word1[0] == word2[0] else 1\n",
    "        for i in range(1,len(word1)):\n",
    "            dp[i][0] = i if word1[i] == word2[0] else 1 + dp[i-1][0]\n",
    "        for j in range(1,len(word2)):\n",
    "            dp[0][j] = j if word1[0] == word2[j] else 1 + dp[0][j-1]\n",
    "\n",
    "        for i in range(1,len(word1)):\n",
    "            for j in range(1,len(word2)):\n",
    "                dp[i][j] = dp[i-1][j-1] if word1[i] == word2[j] else (1 + min(dp[i-1][j], dp[i][j-1], dp[i-1][j-1]))\n",
    "\n",
    "        return dp[-1][-1]"
   ]
  }
 ],
 "metadata": {
  "kernelspec": {
   "display_name": "Python 3 (ipykernel)",
   "language": "python",
   "name": "python3"
  },
  "language_info": {
   "codemirror_mode": {
    "name": "ipython",
    "version": 3
   },
   "file_extension": ".py",
   "mimetype": "text/x-python",
   "name": "python",
   "nbconvert_exporter": "python",
   "pygments_lexer": "ipython3",
   "version": "3.8.12"
  }
 },
 "nbformat": 4,
 "nbformat_minor": 5
}
