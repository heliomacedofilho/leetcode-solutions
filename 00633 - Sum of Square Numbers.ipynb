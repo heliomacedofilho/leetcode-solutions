{
 "cells": [
  {
   "cell_type": "code",
   "execution_count": null,
   "id": "a6148583-5588-4098-9257-4b6bfb72d7e2",
   "metadata": {},
   "outputs": [],
   "source": [
    "class Solution:\n",
    "    def judgeSquareSum(self, c: int) -> bool:\n",
    "        def binary_search(arr, target):\n",
    "            i, j = 0, len(arr) - 1\n",
    "            while (i<=j):\n",
    "                m = (i+j)//2\n",
    "                if arr[m] < target:\n",
    "                    i = m + 1\n",
    "                else:\n",
    "                    j = m - 1\n",
    "            return i\n",
    "        #Solution 01\n",
    "        #i = 0\n",
    "        #squares = [0]\n",
    "        #while squares[-1] <= c:\n",
    "        #    i+=1\n",
    "        #    squares.append(i**2)            \n",
    "        #for a in squares:\n",
    "        #    idx_b = binary_search(squares, c - a)\n",
    "        #    if a + squares[idx_b] == c:\n",
    "        #        return True            \n",
    "        #return False\n",
    "        \n",
    "        #Solution 02\n",
    "        a = 0\n",
    "        b = int(sqrt(c))\n",
    "        while (a<=b):\n",
    "            guess = a*a+b*b\n",
    "            if guess == c:\n",
    "                return True\n",
    "            elif guess > c:\n",
    "                b-=1\n",
    "            else:\n",
    "                a+=1\n",
    "        return False"
   ]
  }
 ],
 "metadata": {
  "kernelspec": {
   "display_name": "Python 3 (ipykernel)",
   "language": "python",
   "name": "python3"
  },
  "language_info": {
   "codemirror_mode": {
    "name": "ipython",
    "version": 3
   },
   "file_extension": ".py",
   "mimetype": "text/x-python",
   "name": "python",
   "nbconvert_exporter": "python",
   "pygments_lexer": "ipython3",
   "version": "3.8.12"
  }
 },
 "nbformat": 4,
 "nbformat_minor": 5
}
