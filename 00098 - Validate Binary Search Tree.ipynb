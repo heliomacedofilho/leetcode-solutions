{
 "cells": [
  {
   "cell_type": "code",
   "execution_count": null,
   "id": "a6148583-5588-4098-9257-4b6bfb72d7e2",
   "metadata": {},
   "outputs": [],
   "source": [
    "# Definition for a binary tree node.\n",
    "# class TreeNode:\n",
    "#     def __init__(self, val=0, left=None, right=None):\n",
    "#         self.val = val\n",
    "#         self.left = left\n",
    "#         self.right = right\n",
    "class Solution:\n",
    "    def isValidBST(self, root: Optional[TreeNode]) -> bool:\n",
    "\n",
    "        \n",
    "        def helper(root):\n",
    "            if root:\n",
    "                min_val_left, max_val_left, isValidLeft = helper(root.left)\n",
    "                min_val_right, max_val_right, isValidRight = helper(root.right)\n",
    "                if isValidLeft is None:\n",
    "                    min_val_left = root.val\n",
    "                    isValidLeft = True\n",
    "                else:\n",
    "                    isValidLeft = isValidLeft and root.val > max_val_left\n",
    "                    \n",
    "                if isValidRight is None:\n",
    "                    max_val_right = root.val\n",
    "                    isValidRight = True\n",
    "                else:\n",
    "                    isValidRight = isValidRight and root.val < min_val_right\n",
    "                return (min_val_left, max_val_right, isValidLeft and isValidRight)\n",
    "            else:\n",
    "                return (None, None, None)\n",
    "        \n",
    "        _, _, isValid = helper(root)\n",
    "        \n",
    "        return isValid"
   ]
  }
 ],
 "metadata": {
  "kernelspec": {
   "display_name": "Python 3 (ipykernel)",
   "language": "python",
   "name": "python3"
  },
  "language_info": {
   "codemirror_mode": {
    "name": "ipython",
    "version": 3
   },
   "file_extension": ".py",
   "mimetype": "text/x-python",
   "name": "python",
   "nbconvert_exporter": "python",
   "pygments_lexer": "ipython3",
   "version": "3.8.12"
  }
 },
 "nbformat": 4,
 "nbformat_minor": 5
}
