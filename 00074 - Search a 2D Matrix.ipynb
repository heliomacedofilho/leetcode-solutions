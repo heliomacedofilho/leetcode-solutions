{
 "cells": [
  {
   "cell_type": "code",
   "execution_count": null,
   "id": "a6148583-5588-4098-9257-4b6bfb72d7e2",
   "metadata": {},
   "outputs": [],
   "source": [
    "class Solution:\n",
    "    def searchMatrix(self, matrix: List[List[int]], target: int) -> bool:\n",
    "        \n",
    "        #Solution 01\n",
    "        #row = binary_search([matrix[i][0] for i in range(len(matrix))], target)\n",
    "        #if row < len(matrix):\n",
    "        #    if matrix[row][0] == target:\n",
    "        #        return True\n",
    "        #    elif row == 0:\n",
    "        #        return False\n",
    "            \n",
    "        #column = binary_search(matrix[row-1], target)\n",
    "        \n",
    "        #if column < len(matrix[0]):\n",
    "        #    if matrix[row-1][column] == target:\n",
    "        #        return True\n",
    "        #return False\n",
    "        \n",
    "            \n",
    "        #Solution 02\n",
    "        m = len(matrix)\n",
    "        n = len(matrix[0])\n",
    "\n",
    "        i, j = 0, m*n - 1\n",
    "        while (i <= j):\n",
    "            mid = (i+j)//2\n",
    "            row = mid // n\n",
    "            column = mid % n\n",
    "            if matrix[row][column] == target:\n",
    "                return True\n",
    "            elif matrix[row][column] < target:\n",
    "                i = mid + 1\n",
    "            else:\n",
    "                j = mid - 1\n",
    "\n",
    "        if i < m*n and matrix[i // n][i % n] == target:\n",
    "            return True\n",
    "        return False"
   ]
  }
 ],
 "metadata": {
  "kernelspec": {
   "display_name": "Python 3 (ipykernel)",
   "language": "python",
   "name": "python3"
  },
  "language_info": {
   "codemirror_mode": {
    "name": "ipython",
    "version": 3
   },
   "file_extension": ".py",
   "mimetype": "text/x-python",
   "name": "python",
   "nbconvert_exporter": "python",
   "pygments_lexer": "ipython3",
   "version": "3.8.12"
  }
 },
 "nbformat": 4,
 "nbformat_minor": 5
}
