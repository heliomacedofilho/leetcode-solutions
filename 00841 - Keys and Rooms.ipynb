{
 "cells": [
  {
   "cell_type": "code",
   "execution_count": null,
   "id": "a6148583-5588-4098-9257-4b6bfb72d7e2",
   "metadata": {},
   "outputs": [],
   "source": [
    "class Solution:\n",
    "    def canVisitAllRooms(self, rooms: List[List[int]]) -> bool:\n",
    "        #Solution 01\n",
    "        #table = {i:0 for i in range(len(rooms))}\n",
    "        #queue = []\n",
    "        #queue.extend(rooms[0])\n",
    "        #table[0] = 1\n",
    "        #while (queue):\n",
    "        #    new_queue = []\n",
    "        #    for key in queue:\n",
    "        #        if table[key] == 0:\n",
    "        #            table[key] = 1\n",
    "        #            new_queue.extend(rooms[key])\n",
    "        #    queue = new_queue\n",
    "        #return all(table[i] > 0 for i in range(len(rooms)))\n",
    "\n",
    "        \n",
    "        #Solution 02\n",
    "        visited = [True] + [False] * (len(rooms) - 1)\n",
    "        \n",
    "        queue = deque([0])\n",
    "        \n",
    "        while (queue):\n",
    "            key = queue.popleft()\n",
    "            for next_key in rooms[key]:\n",
    "                if not visited[next_key]:\n",
    "                    visited[next_key] = True\n",
    "                    queue.append(next_key)\n",
    "        \n",
    "        return all(visited)"
   ]
  }
 ],
 "metadata": {
  "kernelspec": {
   "display_name": "Python 3 (ipykernel)",
   "language": "python",
   "name": "python3"
  },
  "language_info": {
   "codemirror_mode": {
    "name": "ipython",
    "version": 3
   },
   "file_extension": ".py",
   "mimetype": "text/x-python",
   "name": "python",
   "nbconvert_exporter": "python",
   "pygments_lexer": "ipython3",
   "version": "3.8.12"
  }
 },
 "nbformat": 4,
 "nbformat_minor": 5
}
