{
 "cells": [
  {
   "cell_type": "code",
   "execution_count": null,
   "id": "a6148583-5588-4098-9257-4b6bfb72d7e2",
   "metadata": {},
   "outputs": [],
   "source": [
    "class Solution:\n",
    "    def numSquares(self, n: int) -> int:\n",
    "        perfect_squares = []\n",
    "        r = 1\n",
    "        p_s = 1\n",
    "        while (p_s <= n):\n",
    "            perfect_squares.append(p_s)\n",
    "            r=r+1\n",
    "            p_s=r**2\n",
    "        \n",
    "        #Solution 01 (DP)\n",
    "        #dp = [0]*(n+1)\n",
    "        #for i in range(1, n+1):\n",
    "        #    partial_answer = i+1\n",
    "        #    for perfect_square in perfect_squares:\n",
    "        #        if i >= perfect_square:\n",
    "        #            partial_answer = min(partial_answer, dp[i-perfect_square])\n",
    "        #    dp[i] = 1 + partial_answer\n",
    "        #return dp[-1]\n",
    "        \n",
    "        #Solution 02 (Bitwise)\n",
    "        bit_representation = 1 << n\n",
    "        bit_representation_last_step = bit_representation\n",
    "        step=0\n",
    "        while (bit_representation&1 == 0):\n",
    "            step+=1\n",
    "            for perfect_square in perfect_squares:\n",
    "                bit_representation |= bit_representation_last_step >> perfect_square\n",
    "            bit_representation_last_step = bit_representation\n",
    "            \n",
    "        return step"
   ]
  }
 ],
 "metadata": {
  "kernelspec": {
   "display_name": "Python 3 (ipykernel)",
   "language": "python",
   "name": "python3"
  },
  "language_info": {
   "codemirror_mode": {
    "name": "ipython",
    "version": 3
   },
   "file_extension": ".py",
   "mimetype": "text/x-python",
   "name": "python",
   "nbconvert_exporter": "python",
   "pygments_lexer": "ipython3",
   "version": "3.8.12"
  }
 },
 "nbformat": 4,
 "nbformat_minor": 5
}
