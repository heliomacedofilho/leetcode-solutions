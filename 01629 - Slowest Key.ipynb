{
 "cells": [
  {
   "cell_type": "code",
   "execution_count": null,
   "id": "a6148583-5588-4098-9257-4b6bfb72d7e2",
   "metadata": {},
   "outputs": [],
   "source": [
    "class Solution:\n",
    "    def slowestKey(self, releaseTimes: List[int], keysPressed: str) -> str:\n",
    "\n",
    "        answer = (releaseTimes[0], keysPressed[0])\n",
    "        \n",
    "        for i in range(1, len(releaseTimes)):\n",
    "            time = releaseTimes[i] - releaseTimes[i-1]\n",
    "            keyPressed = keysPressed[i]\n",
    "            \n",
    "            if time > answer[0] or (time == answer[0] and keyPressed >= answer[1]):\n",
    "                answer = (time, keyPressed)\n",
    "\n",
    "        return answer[1]"
   ]
  }
 ],
 "metadata": {
  "kernelspec": {
   "display_name": "Python 3 (ipykernel)",
   "language": "python",
   "name": "python3"
  },
  "language_info": {
   "codemirror_mode": {
    "name": "ipython",
    "version": 3
   },
   "file_extension": ".py",
   "mimetype": "text/x-python",
   "name": "python",
   "nbconvert_exporter": "python",
   "pygments_lexer": "ipython3",
   "version": "3.8.12"
  }
 },
 "nbformat": 4,
 "nbformat_minor": 5
}
