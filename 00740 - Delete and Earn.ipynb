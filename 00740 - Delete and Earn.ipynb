{
 "cells": [
  {
   "cell_type": "code",
   "execution_count": null,
   "id": "a6148583-5588-4098-9257-4b6bfb72d7e2",
   "metadata": {},
   "outputs": [],
   "source": [
    "class Solution:\n",
    "    def deleteAndEarn(self, nums: List[int]) -> int:\n",
    "\n",
    "        \n",
    "        def dp(arr):\n",
    "            dp1, dp2 = 0, 0\n",
    "            for i in range(len(arr)):\n",
    "                dp2, dp1 = max(arr[i] + dp1, dp2), dp2\n",
    "            return dp2\n",
    "        \n",
    "        table = defaultdict(int)\n",
    "        for num in nums:\n",
    "            table[num]+=1\n",
    "        \n",
    "        answer = 0\n",
    "        \n",
    "        for num in sorted(nums):\n",
    "            if table[num] > 0:\n",
    "                i = num\n",
    "                arr = []\n",
    "\n",
    "                while table[i] > 0:\n",
    "                    arr.append(i*table[i])\n",
    "                    table[i] = 0\n",
    "                    i+=1\n",
    "                    \n",
    "                answer+=dp(arr)\n",
    "        \n",
    "        return answer\n",
    "            "
   ]
  }
 ],
 "metadata": {
  "kernelspec": {
   "display_name": "Python 3 (ipykernel)",
   "language": "python",
   "name": "python3"
  },
  "language_info": {
   "codemirror_mode": {
    "name": "ipython",
    "version": 3
   },
   "file_extension": ".py",
   "mimetype": "text/x-python",
   "name": "python",
   "nbconvert_exporter": "python",
   "pygments_lexer": "ipython3",
   "version": "3.8.12"
  }
 },
 "nbformat": 4,
 "nbformat_minor": 5
}
