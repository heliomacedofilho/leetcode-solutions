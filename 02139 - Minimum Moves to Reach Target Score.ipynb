{
 "cells": [
  {
   "cell_type": "code",
   "execution_count": null,
   "id": "a6148583-5588-4098-9257-4b6bfb72d7e2",
   "metadata": {},
   "outputs": [],
   "source": [
    "class Solution:\n",
    "    def minMoves(self, target: int, maxDoubles: int) -> int:\n",
    "        if maxDoubles == 0 or target == 1:\n",
    "            return target - 1\n",
    "        else:\n",
    "            maxDoubles = min(maxDoubles, len(bin(target)) - 3)\n",
    "            return bin(target)[-maxDoubles:].count('1') + (target >> maxDoubles) - 1 + maxDoubles"
   ]
  }
 ],
 "metadata": {
  "kernelspec": {
   "display_name": "Python 3 (ipykernel)",
   "language": "python",
   "name": "python3"
  },
  "language_info": {
   "codemirror_mode": {
    "name": "ipython",
    "version": 3
   },
   "file_extension": ".py",
   "mimetype": "text/x-python",
   "name": "python",
   "nbconvert_exporter": "python",
   "pygments_lexer": "ipython3",
   "version": "3.8.12"
  }
 },
 "nbformat": 4,
 "nbformat_minor": 5
}
