{
 "cells": [
  {
   "cell_type": "code",
   "execution_count": null,
   "id": "a6148583-5588-4098-9257-4b6bfb72d7e2",
   "metadata": {},
   "outputs": [],
   "source": [
    "class Solution:\n",
    "    def searchRange(self, nums: List[int], target: int) -> List[int]:\n",
    "        \n",
    "        def firstIndex(nums, target):\n",
    "            if len(nums) == 0: return -1\n",
    "            \n",
    "            i, j = 0, len(nums) - 1\n",
    "            while (i<=j):\n",
    "                m = (i+j)//2\n",
    "                if nums[m] < target:\n",
    "                    i=m+1\n",
    "                else:\n",
    "                    j=m-1\n",
    "            \n",
    "            return i\n",
    "                \n",
    "        i_1 = firstIndex(nums, target)\n",
    "        i_2 = firstIndex(nums, target+1)\n",
    "        \n",
    "        if i_1 == -1 or i_1 == len(nums) or nums[i_1] != target:\n",
    "            return [-1, -1]\n",
    "        else:\n",
    "            return [i_1, i_2-1]\n",
    "        \n",
    "            \n",
    "        "
   ]
  }
 ],
 "metadata": {
  "kernelspec": {
   "display_name": "Python 3 (ipykernel)",
   "language": "python",
   "name": "python3"
  },
  "language_info": {
   "codemirror_mode": {
    "name": "ipython",
    "version": 3
   },
   "file_extension": ".py",
   "mimetype": "text/x-python",
   "name": "python",
   "nbconvert_exporter": "python",
   "pygments_lexer": "ipython3",
   "version": "3.8.12"
  }
 },
 "nbformat": 4,
 "nbformat_minor": 5
}
