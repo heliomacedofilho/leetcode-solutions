{
 "cells": [
  {
   "cell_type": "code",
   "execution_count": null,
   "id": "a6148583-5588-4098-9257-4b6bfb72d7e2",
   "metadata": {},
   "outputs": [],
   "source": [
    "class Solution:\n",
    "    def countSubIslands(self, grid1: List[List[int]], grid2: List[List[int]]) -> int:\n",
    "        \n",
    "        def isSubIsland(grid1, grid2, i, j):\n",
    "            grid2[i][j] = 0\n",
    "            si = True\n",
    "            \n",
    "            if grid1[i][j] == 0:\n",
    "                si = False\n",
    "            \n",
    "            if i > 0 and grid2[i-1][j] == 1:\n",
    "                si = isSubIsland(grid1, grid2, i-1, j) and si\n",
    "            if j > 0 and grid2[i][j-1] == 1:\n",
    "                si = isSubIsland(grid1, grid2, i, j-1) and si\n",
    "            if i < len(grid2) - 1 and grid2[i+1][j] == 1:\n",
    "                si = isSubIsland(grid1, grid2, i+1, j) and si\n",
    "            if j < len(grid2[0]) - 1 and grid2[i][j+1] == 1:\n",
    "                si = isSubIsland(grid1, grid2, i, j+1) and si\n",
    "                \n",
    "            return si\n",
    "        \n",
    "        answer = 0\n",
    "        for i in range(len(grid2)):\n",
    "            for j in range(len(grid2[0])):\n",
    "                if grid2[i][j] == 1:\n",
    "                    if isSubIsland(grid1, grid2, i, j):\n",
    "                        answer+=1\n",
    "        return answer\n",
    "                    "
   ]
  }
 ],
 "metadata": {
  "kernelspec": {
   "display_name": "Python 3 (ipykernel)",
   "language": "python",
   "name": "python3"
  },
  "language_info": {
   "codemirror_mode": {
    "name": "ipython",
    "version": 3
   },
   "file_extension": ".py",
   "mimetype": "text/x-python",
   "name": "python",
   "nbconvert_exporter": "python",
   "pygments_lexer": "ipython3",
   "version": "3.8.12"
  }
 },
 "nbformat": 4,
 "nbformat_minor": 5
}
