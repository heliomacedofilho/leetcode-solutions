{
 "cells": [
  {
   "cell_type": "code",
   "execution_count": null,
   "id": "a6148583-5588-4098-9257-4b6bfb72d7e2",
   "metadata": {},
   "outputs": [],
   "source": [
    "class Solution:\n",
    "    def twoSum(self, numbers: List[int], target: int) -> List[int]:\n",
    "        \n",
    "        i, j = 0, len(numbers)-1\n",
    "        \n",
    "        while (i < j):\n",
    "            sum_ij = numbers[i] + numbers[j]\n",
    "            \n",
    "            if (sum_ij == target):\n",
    "                return ([i+1, j+1])\n",
    "            elif (sum_ij < target):\n",
    "                i+=1\n",
    "            else:\n",
    "                j-=1\n",
    "                "
   ]
  }
 ],
 "metadata": {
  "kernelspec": {
   "display_name": "Python 3 (ipykernel)",
   "language": "python",
   "name": "python3"
  },
  "language_info": {
   "codemirror_mode": {
    "name": "ipython",
    "version": 3
   },
   "file_extension": ".py",
   "mimetype": "text/x-python",
   "name": "python",
   "nbconvert_exporter": "python",
   "pygments_lexer": "ipython3",
   "version": "3.8.12"
  }
 },
 "nbformat": 4,
 "nbformat_minor": 5
}
