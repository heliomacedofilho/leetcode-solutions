{
 "cells": [
  {
   "cell_type": "code",
   "execution_count": null,
   "id": "a6148583-5588-4098-9257-4b6bfb72d7e2",
   "metadata": {},
   "outputs": [],
   "source": [
    "class MyHashMap:\n",
    "\n",
    "    def __init__(self):\n",
    "        self.buckets = [[] for _ in range(947)]\n",
    "\n",
    "    def put(self, key: int, value: int) -> None:\n",
    "        bucket, idx = self.getBucketAndIndex(key)\n",
    "        if idx != -1:\n",
    "            bucket[idx][1] = value\n",
    "        else:\n",
    "            bucket.append([key,value])\n",
    "            \n",
    "    def get(self, key: int) -> int:\n",
    "        bucket, idx = self.getBucketAndIndex(key)\n",
    "        if idx != -1:\n",
    "            return bucket[idx][1]\n",
    "        else:\n",
    "            return -1\n",
    "        \n",
    "    def remove(self, key: int) -> None:\n",
    "        bucket, idx = self.getBucketAndIndex(key)\n",
    "        if idx != -1:\n",
    "            bucket.remove(bucket[idx])\n",
    "\n",
    "    def hashKey(self, key):\n",
    "        return key % len(self.buckets)\n",
    "    \n",
    "    def getBucketAndIndex(self, key):\n",
    "        hashResult = self.hashKey(key)\n",
    "        bucket = self.buckets[hashResult]\n",
    "        \n",
    "        for idx, slot in enumerate(bucket):\n",
    "            if slot[0] == key:\n",
    "                return bucket, idx\n",
    "        \n",
    "        return bucket, -1"
   ]
  }
 ],
 "metadata": {
  "kernelspec": {
   "display_name": "Python 3 (ipykernel)",
   "language": "python",
   "name": "python3"
  },
  "language_info": {
   "codemirror_mode": {
    "name": "ipython",
    "version": 3
   },
   "file_extension": ".py",
   "mimetype": "text/x-python",
   "name": "python",
   "nbconvert_exporter": "python",
   "pygments_lexer": "ipython3",
   "version": "3.8.12"
  }
 },
 "nbformat": 4,
 "nbformat_minor": 5
}
