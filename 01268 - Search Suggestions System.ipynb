{
 "cells": [
  {
   "cell_type": "code",
   "execution_count": null,
   "id": "a6148583-5588-4098-9257-4b6bfb72d7e2",
   "metadata": {},
   "outputs": [],
   "source": [
    "class Solution:\n",
    "    def suggestedProducts(self, products: List[str], searchWord: str) -> List[List[str]]:\n",
    "        def binary_search(arr, target):\n",
    "            i, j = 0, len(arr) - 1\n",
    "            while (i<=j):\n",
    "                m = (i+j)//2\n",
    "                if arr[m] < target:\n",
    "                    i=m+1\n",
    "                else:\n",
    "                    j=m-1\n",
    "            return i\n",
    "  \n",
    "        products.sort()\n",
    "        \n",
    "        answer = []\n",
    "        for i in range(1, len(searchWord)+1):\n",
    "            idx = binary_search(products, searchWord[:i])\n",
    "            partial_answer = []\n",
    "            for j in range(3):\n",
    "                if idx+j < len(products):\n",
    "                    if products[idx+j].startswith(searchWord[:i]):\n",
    "                        partial_answer.append(products[idx+j])\n",
    "            answer.append(partial_answer)\n",
    "            \n",
    "        return answer"
   ]
  }
 ],
 "metadata": {
  "kernelspec": {
   "display_name": "Python 3 (ipykernel)",
   "language": "python",
   "name": "python3"
  },
  "language_info": {
   "codemirror_mode": {
    "name": "ipython",
    "version": 3
   },
   "file_extension": ".py",
   "mimetype": "text/x-python",
   "name": "python",
   "nbconvert_exporter": "python",
   "pygments_lexer": "ipython3",
   "version": "3.8.12"
  }
 },
 "nbformat": 4,
 "nbformat_minor": 5
}
