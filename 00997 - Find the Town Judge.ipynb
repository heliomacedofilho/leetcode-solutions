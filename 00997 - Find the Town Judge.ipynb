{
 "cells": [
  {
   "cell_type": "code",
   "execution_count": null,
   "id": "a6148583-5588-4098-9257-4b6bfb72d7e2",
   "metadata": {},
   "outputs": [],
   "source": [
    "class Solution:\n",
    "    def findJudge(self, n: int, trust: List[List[int]]) -> int:\n",
    "        degree = {i: 0 for i in range(1, n+1)}\n",
    "        \n",
    "        for t in trust:\n",
    "            degree[t[0]]-=1\n",
    "            degree[t[1]]+=1\n",
    "        \n",
    "        town_judge = -1\n",
    "        for i in range(1, n+1):\n",
    "            if degree[i] == n-1:\n",
    "                town_judge = i\n",
    "\n",
    "        return town_judge"
   ]
  }
 ],
 "metadata": {
  "kernelspec": {
   "display_name": "Python 3 (ipykernel)",
   "language": "python",
   "name": "python3"
  },
  "language_info": {
   "codemirror_mode": {
    "name": "ipython",
    "version": 3
   },
   "file_extension": ".py",
   "mimetype": "text/x-python",
   "name": "python",
   "nbconvert_exporter": "python",
   "pygments_lexer": "ipython3",
   "version": "3.8.12"
  }
 },
 "nbformat": 4,
 "nbformat_minor": 5
}
