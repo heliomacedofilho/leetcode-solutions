{
 "cells": [
  {
   "cell_type": "code",
   "execution_count": null,
   "id": "a6148583-5588-4098-9257-4b6bfb72d7e2",
   "metadata": {},
   "outputs": [],
   "source": [
    "class Solution:\n",
    "    def maxDistance(self, grid: List[List[int]]) -> int:\n",
    "        \n",
    "        table = defaultdict(list)\n",
    "        \n",
    "        for i in range(len(grid)):\n",
    "            for j in range(len(grid[0])):\n",
    "                if grid[i][j] == 1:\n",
    "                    table[1].append((i, j))\n",
    "        \n",
    "        i = 1\n",
    "        while i in table:\n",
    "            for u, v in table[i]:\n",
    "                if u > 0:\n",
    "                    if grid[u-1][v] == 0:\n",
    "                        grid[u-1][v] = i+1\n",
    "                        table[i+1].append((u-1, v))\n",
    "                if v > 0:\n",
    "                    if grid[u][v-1] == 0:\n",
    "                        grid[u][v-1] = i+1\n",
    "                        table[i+1].append((u, v-1))\n",
    "                if u < len(grid) - 1:\n",
    "                    if grid[u+1][v] == 0:\n",
    "                        grid[u+1][v] = i+1\n",
    "                        table[i+1].append((u+1, v))\n",
    "                if v < len(grid[j]) - 1:\n",
    "                    if grid[u][v+1] == 0:\n",
    "                        grid[u][v+1] = i+1\n",
    "                        table[i+1].append((u, v+1))\n",
    "            i+=1\n",
    "        \n",
    "        max_number = 0\n",
    "        \n",
    "        for i in range(len(grid)):\n",
    "            for j in range(len(grid[0])):\n",
    "                max_number = max(max_number, grid[i][j])\n",
    "                \n",
    "        if max_number < 2:\n",
    "            return -1\n",
    "        else:\n",
    "            return max_number - 1"
   ]
  }
 ],
 "metadata": {
  "kernelspec": {
   "display_name": "Python 3 (ipykernel)",
   "language": "python",
   "name": "python3"
  },
  "language_info": {
   "codemirror_mode": {
    "name": "ipython",
    "version": 3
   },
   "file_extension": ".py",
   "mimetype": "text/x-python",
   "name": "python",
   "nbconvert_exporter": "python",
   "pygments_lexer": "ipython3",
   "version": "3.8.12"
  }
 },
 "nbformat": 4,
 "nbformat_minor": 5
}
