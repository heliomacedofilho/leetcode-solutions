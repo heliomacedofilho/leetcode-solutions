{
 "cells": [
  {
   "cell_type": "code",
   "execution_count": null,
   "id": "a6148583-5588-4098-9257-4b6bfb72d7e2",
   "metadata": {},
   "outputs": [],
   "source": [
    "class Solution:\n",
    "    def coinChange(self, coins: List[int], amount: int) -> int:\n",
    "        #Solution 01 (Memo)\n",
    "        #def helper(coins, i, table = {}):\n",
    "        #    if i == 0:\n",
    "        #        return 0\n",
    "        #    elif i < 0:\n",
    "        #        return -1\n",
    "        #    elif i in table:\n",
    "        #        return table[i]\n",
    "        #    else:\n",
    "        #        impossible = []\n",
    "        #        possible = []\n",
    "        #        for coin in coins:\n",
    "        #            c = helper(coins, i-coin, table)\n",
    "        #            if c == -1:\n",
    "        #                impossible.append(c)\n",
    "        #            else:\n",
    "        #                possible.append(c)\n",
    "        #        if len(possible):\n",
    "        #            table[i] = 1 + min(possible)\n",
    "        #            return table[i]\n",
    "        #        else:\n",
    "        #            table[i] = -1\n",
    "        #            return table[i]\n",
    "        #return helper(coins, amount)\n",
    "        \n",
    "        #Solution 02 (DP)\n",
    "        #dp = [0]*(amount+1)\n",
    "        #for i in range(1,amount+1):\n",
    "        #    min_number = i+1\n",
    "        #    for coin in coins:\n",
    "        #        if i - coin >= 0 and dp[i-coin] != -1:\n",
    "        #            min_number = min(min_number, dp[i-coin])\n",
    "        #    dp[i] = -1 if (min_number == i+1) else 1 + min_number\n",
    "        #return dp[-1]\n",
    "        \n",
    "        #Solution 03 (Bitwise operation)\n",
    "        bit_amount = 1 << amount\n",
    "        bit_amount_last_step = bit_amount\n",
    "        number_of_coins = 0\n",
    "        while (bit_amount&1 == 0):\n",
    "            for coin in coins: \n",
    "                bit_amount |= (bit_amount_last_step >> coin)\n",
    "            number_of_coins += 1\n",
    "            if bit_amount == bit_amount_last_step:\n",
    "                return -1\n",
    "            bit_amount_last_step = bit_amount\n",
    "        return number_of_coins"
   ]
  }
 ],
 "metadata": {
  "kernelspec": {
   "display_name": "Python 3 (ipykernel)",
   "language": "python",
   "name": "python3"
  },
  "language_info": {
   "codemirror_mode": {
    "name": "ipython",
    "version": 3
   },
   "file_extension": ".py",
   "mimetype": "text/x-python",
   "name": "python",
   "nbconvert_exporter": "python",
   "pygments_lexer": "ipython3",
   "version": "3.8.12"
  }
 },
 "nbformat": 4,
 "nbformat_minor": 5
}
