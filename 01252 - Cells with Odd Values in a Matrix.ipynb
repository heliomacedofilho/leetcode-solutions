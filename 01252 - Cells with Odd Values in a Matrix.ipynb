{
 "cells": [
  {
   "cell_type": "code",
   "execution_count": null,
   "id": "a6148583-5588-4098-9257-4b6bfb72d7e2",
   "metadata": {},
   "outputs": [],
   "source": [
    "class Solution:\n",
    "    def oddCells(self, m: int, n: int, indices: List[List[int]]) -> int:\n",
    "        \n",
    "        temp = [0] * (m+n)\n",
    "        for u, v in indices:\n",
    "            temp[u] += 1\n",
    "            temp[m+v] += 1\n",
    "\n",
    "        binary_c = 0\n",
    "        inverted_binary_c = 0\n",
    "        for v in range(n):\n",
    "            if (temp[m+v] & 1):\n",
    "                binary_c = (binary_c << 1) + 1\n",
    "                inverted_binary_c = (inverted_binary_c << 1)\n",
    "            else:\n",
    "                binary_c = (binary_c << 1)\n",
    "                inverted_binary_c = (inverted_binary_c << 1) + 1\n",
    "        \n",
    "        answer = 0\n",
    "        for u in range(m):\n",
    "            if temp[u] & 1:\n",
    "                answer += bin(inverted_binary_c).count('1')               \n",
    "            else:\n",
    "                answer += bin(binary_c).count('1')  \n",
    "\n",
    "        return answer"
   ]
  }
 ],
 "metadata": {
  "kernelspec": {
   "display_name": "Python 3 (ipykernel)",
   "language": "python",
   "name": "python3"
  },
  "language_info": {
   "codemirror_mode": {
    "name": "ipython",
    "version": 3
   },
   "file_extension": ".py",
   "mimetype": "text/x-python",
   "name": "python",
   "nbconvert_exporter": "python",
   "pygments_lexer": "ipython3",
   "version": "3.8.12"
  }
 },
 "nbformat": 4,
 "nbformat_minor": 5
}
