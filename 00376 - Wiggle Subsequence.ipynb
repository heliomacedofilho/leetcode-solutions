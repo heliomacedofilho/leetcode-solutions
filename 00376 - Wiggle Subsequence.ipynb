{
 "cells": [
  {
   "cell_type": "code",
   "execution_count": null,
   "id": "a6148583-5588-4098-9257-4b6bfb72d7e2",
   "metadata": {},
   "outputs": [],
   "source": [
    "class Solution:\n",
    "    def wiggleMaxLength(self, nums: List[int]) -> int:\n",
    "        if len(nums) == 1: return len(nums)\n",
    "        \n",
    "        diffs = []\n",
    "        for i in range(1, len(nums)):\n",
    "            diff = nums[i] - nums[i-1]\n",
    "            if diff:\n",
    "                diffs.append(diff)\n",
    "        \n",
    "        answer = 0\n",
    "        if diffs:\n",
    "            last_i = 0\n",
    "            answer = 1\n",
    "            for i in range(1, len(diffs)):\n",
    "                if diffs[i]*diffs[last_i] < 0:\n",
    "                    answer += 1\n",
    "                    last_i = i\n",
    "        return answer+1\n",
    "            \n",
    "            "
   ]
  }
 ],
 "metadata": {
  "kernelspec": {
   "display_name": "Python 3 (ipykernel)",
   "language": "python",
   "name": "python3"
  },
  "language_info": {
   "codemirror_mode": {
    "name": "ipython",
    "version": 3
   },
   "file_extension": ".py",
   "mimetype": "text/x-python",
   "name": "python",
   "nbconvert_exporter": "python",
   "pygments_lexer": "ipython3",
   "version": "3.8.12"
  }
 },
 "nbformat": 4,
 "nbformat_minor": 5
}
