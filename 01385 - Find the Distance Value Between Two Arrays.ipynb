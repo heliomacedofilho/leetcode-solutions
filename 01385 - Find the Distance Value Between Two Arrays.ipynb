{
 "cells": [
  {
   "cell_type": "code",
   "execution_count": null,
   "id": "a6148583-5588-4098-9257-4b6bfb72d7e2",
   "metadata": {},
   "outputs": [],
   "source": [
    "class Solution:\n",
    "    def findTheDistanceValue(self, arr1: List[int], arr2: List[int], d: int) -> int:\n",
    "        arr2.sort()\n",
    "        \n",
    "        def binary_search(arr, key):\n",
    "            i, j = 0, len(arr) - 1\n",
    "            while (i <= j):\n",
    "                m = (i+j)//2\n",
    "                if arr[m] == key:\n",
    "                    return m\n",
    "                elif arr[m] < key:\n",
    "                    i = m + 1\n",
    "                else:\n",
    "                    j = m - 1\n",
    "            return i\n",
    "        \n",
    "        answer = 0\n",
    "        for num in arr1:\n",
    "            idx = binary_search(arr2, num)\n",
    "            if idx == len(arr2):\n",
    "                if num-arr2[-1] > d:\n",
    "                    answer+=1\n",
    "            elif idx == 0:\n",
    "                if arr2[0]-num > d:\n",
    "                    answer+=1\n",
    "            else:\n",
    "                if arr2[idx]-num > d and num-arr2[idx-1] > d:\n",
    "                    answer+=1\n",
    "                \n",
    "        return answer"
   ]
  }
 ],
 "metadata": {
  "kernelspec": {
   "display_name": "Python 3 (ipykernel)",
   "language": "python",
   "name": "python3"
  },
  "language_info": {
   "codemirror_mode": {
    "name": "ipython",
    "version": 3
   },
   "file_extension": ".py",
   "mimetype": "text/x-python",
   "name": "python",
   "nbconvert_exporter": "python",
   "pygments_lexer": "ipython3",
   "version": "3.8.12"
  }
 },
 "nbformat": 4,
 "nbformat_minor": 5
}
