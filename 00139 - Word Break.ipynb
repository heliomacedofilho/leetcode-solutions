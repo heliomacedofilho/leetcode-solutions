{
 "cells": [
  {
   "cell_type": "code",
   "execution_count": null,
   "id": "a6148583-5588-4098-9257-4b6bfb72d7e2",
   "metadata": {},
   "outputs": [],
   "source": [
    "class Solution:\n",
    "    def wordBreak(self, s: str, wordDict: List[str]) -> bool:\n",
    "        \n",
    "        def helper(i, table = {}):\n",
    "            if i == len(s):\n",
    "                return True\n",
    "            elif i > len(s): return False\n",
    "            else: \n",
    "                if i in table:\n",
    "                    table[i]\n",
    "                else:\n",
    "                    segmentation = False\n",
    "                    for word in wordDict:\n",
    "                        if word == s[i:min(i+len(word), len(s))]:\n",
    "                            segmentation = segmentation or helper(i+len(word))\n",
    "                    table[i] = segmentation\n",
    "                    return segmentation\n",
    "        \n",
    "        return helper(0)"
   ]
  }
 ],
 "metadata": {
  "kernelspec": {
   "display_name": "Python 3 (ipykernel)",
   "language": "python",
   "name": "python3"
  },
  "language_info": {
   "codemirror_mode": {
    "name": "ipython",
    "version": 3
   },
   "file_extension": ".py",
   "mimetype": "text/x-python",
   "name": "python",
   "nbconvert_exporter": "python",
   "pygments_lexer": "ipython3",
   "version": "3.8.12"
  }
 },
 "nbformat": 4,
 "nbformat_minor": 5
}
