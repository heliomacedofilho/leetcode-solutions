{
 "cells": [
  {
   "cell_type": "code",
   "execution_count": null,
   "id": "a6148583-5588-4098-9257-4b6bfb72d7e2",
   "metadata": {},
   "outputs": [],
   "source": [
    "class NumMatrix:\n",
    "\n",
    "    prefix_column = [[]]\n",
    "    \n",
    "    def __init__(self, matrix: List[List[int]]):\n",
    "        \n",
    "        m = len(matrix)\n",
    "        n = len(matrix[0])\n",
    "        \n",
    "        self.cummulative_matrix = [[0]*n for i in range(m)]\n",
    "        \n",
    "        for i in range(m):\n",
    "            cummulative_row = 0\n",
    "            for j in range(n):\n",
    "                cummulative_row += matrix[i][j]\n",
    "                self.cummulative_matrix[i][j] = cummulative_row + (self.cummulative_matrix[i-1][j] if i > 0 else 0)\n",
    "                \n",
    "                \n",
    "                \n",
    "    def sumRegion(self, row1: int, col1: int, row2: int, col2: int) -> int:\n",
    "        return self.cummulative_matrix[row2][col2] - (self.cummulative_matrix[row2][col1-1] if col1 else 0) - (self.cummulative_matrix[row1-1][col2] if row1 else 0) + (self.cummulative_matrix[row1-1][col1-1] if (row1 and col1) else 0)\n",
    "\n",
    "\n",
    "# Your NumMatrix object will be instantiated and called as such:\n",
    "# obj = NumMatrix(matrix)\n",
    "# param_1 = obj.sumRegion(row1,col1,row2,col2)"
   ]
  }
 ],
 "metadata": {
  "kernelspec": {
   "display_name": "Python 3 (ipykernel)",
   "language": "python",
   "name": "python3"
  },
  "language_info": {
   "codemirror_mode": {
    "name": "ipython",
    "version": 3
   },
   "file_extension": ".py",
   "mimetype": "text/x-python",
   "name": "python",
   "nbconvert_exporter": "python",
   "pygments_lexer": "ipython3",
   "version": "3.8.12"
  }
 },
 "nbformat": 4,
 "nbformat_minor": 5
}
