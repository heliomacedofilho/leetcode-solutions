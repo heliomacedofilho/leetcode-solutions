{
 "cells": [
  {
   "cell_type": "code",
   "execution_count": null,
   "id": "a6148583-5588-4098-9257-4b6bfb72d7e2",
   "metadata": {},
   "outputs": [],
   "source": [
    "class Solution:\n",
    "    def minimumTotal(self, triangle: List[List[int]]) -> int:\n",
    "        n = len(triangle)\n",
    "        answer = [0]*(n)\n",
    "        \n",
    "        answer[0] = triangle[0][0]\n",
    "        for row in range(1,n):\n",
    "            answer[row] = triangle[row][row] + answer[row-1]\n",
    "            for column in range(row-1, 0, -1):\n",
    "                answer[column] = triangle[row][column] + min(answer[column], answer[column-1])\n",
    "            answer[0] = triangle[row][0] + answer[0]\n",
    "            \n",
    "        return min(answer)\n",
    "        "
   ]
  }
 ],
 "metadata": {
  "kernelspec": {
   "display_name": "Python 3 (ipykernel)",
   "language": "python",
   "name": "python3"
  },
  "language_info": {
   "codemirror_mode": {
    "name": "ipython",
    "version": 3
   },
   "file_extension": ".py",
   "mimetype": "text/x-python",
   "name": "python",
   "nbconvert_exporter": "python",
   "pygments_lexer": "ipython3",
   "version": "3.8.12"
  }
 },
 "nbformat": 4,
 "nbformat_minor": 5
}
