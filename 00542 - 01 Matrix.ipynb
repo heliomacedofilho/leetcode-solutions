{
 "cells": [
  {
   "cell_type": "code",
   "execution_count": null,
   "id": "a6148583-5588-4098-9257-4b6bfb72d7e2",
   "metadata": {},
   "outputs": [],
   "source": [
    "class Solution:\n",
    "    def updateMatrix(self, mat: List[List[int]]) -> List[List[int]]:\n",
    "        \n",
    "        #Solution 01\n",
    "        #answer = [[-1]*len(mat[0]) for _ in range(len(mat))]\n",
    "        #s1 = []\n",
    "        #s2 = []\n",
    "        #dist = 0\n",
    "        #for i in range(len(mat)):\n",
    "        #    for j in range(len(mat[0])):\n",
    "        #        if mat[i][j] == 0:\n",
    "        #            s1.append((i,j))\n",
    "        #while (len(s1) > 0):\n",
    "        #    (i,j) = s1.pop()\n",
    "        #    if answer[i][j] == -1:\n",
    "        #        answer[i][j] = dist\n",
    "        #        if i > 0:\n",
    "        #            s2.append((i-1, j))\n",
    "        #        if j > 0:\n",
    "        #            s2.append((i, j-1))\n",
    "        #        if i < len(mat) - 1:\n",
    "        #            s2.append((i+1, j))\n",
    "        #        if j < len(mat[0]) - 1:\n",
    "        #            s2.append((i, j+1))\n",
    "        #    if len(s1) == 0:\n",
    "        #        s1, s2 = s2, []\n",
    "        #        dist+=1\n",
    "        #return answer\n",
    "        \n",
    "        #Solution 02\n",
    "        m, n = len(mat), len(mat[0])\n",
    "        \n",
    "        max_value = 10001\n",
    "        \n",
    "        for i in range(m):\n",
    "            for j in range(n):\n",
    "                if mat[i][j] != 0:\n",
    "                    mat[i][j] = 1 + min(mat[i-1][j] if i > 0 else max_value, mat[i][j-1] if j > 0 else max_value)\n",
    "                    \n",
    "        for i in range(m-1, -1, -1):\n",
    "            for j in range(n-1, -1, -1):\n",
    "                if mat[i][j] != 0:\n",
    "                    mat[i][j] = min(mat[i][j], 1 + min(mat[i+1][j] if i < m-1 else max_value, mat[i][j+1] if j < n-1 else max_value))\n",
    "                    \n",
    "        return mat"
   ]
  }
 ],
 "metadata": {
  "kernelspec": {
   "display_name": "Python 3 (ipykernel)",
   "language": "python",
   "name": "python3"
  },
  "language_info": {
   "codemirror_mode": {
    "name": "ipython",
    "version": 3
   },
   "file_extension": ".py",
   "mimetype": "text/x-python",
   "name": "python",
   "nbconvert_exporter": "python",
   "pygments_lexer": "ipython3",
   "version": "3.8.12"
  }
 },
 "nbformat": 4,
 "nbformat_minor": 5
}
