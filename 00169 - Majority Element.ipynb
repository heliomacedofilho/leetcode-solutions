{
 "cells": [
  {
   "cell_type": "code",
   "execution_count": null,
   "id": "a6148583-5588-4098-9257-4b6bfb72d7e2",
   "metadata": {},
   "outputs": [],
   "source": [
    "class Solution:\n",
    "    def majorityElement(self, nums: List[int]) -> int:\n",
    "        \n",
    "        most_common_num = nums[0]\n",
    "        count = 1\n",
    "        \n",
    "        for i in range(1, len(nums)):\n",
    "            if count == 0:\n",
    "                most_common_num = nums[i]\n",
    "                count = 1\n",
    "            elif most_common_num == nums[i]:\n",
    "                count+=1\n",
    "            else:\n",
    "                count-=1\n",
    "        \n",
    "        return most_common_num"
   ]
  }
 ],
 "metadata": {
  "kernelspec": {
   "display_name": "Python 3 (ipykernel)",
   "language": "python",
   "name": "python3"
  },
  "language_info": {
   "codemirror_mode": {
    "name": "ipython",
    "version": 3
   },
   "file_extension": ".py",
   "mimetype": "text/x-python",
   "name": "python",
   "nbconvert_exporter": "python",
   "pygments_lexer": "ipython3",
   "version": "3.8.12"
  }
 },
 "nbformat": 4,
 "nbformat_minor": 5
}
