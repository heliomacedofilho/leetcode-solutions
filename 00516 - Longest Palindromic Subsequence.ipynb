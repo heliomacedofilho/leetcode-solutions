{
 "cells": [
  {
   "cell_type": "code",
   "execution_count": null,
   "id": "a6148583-5588-4098-9257-4b6bfb72d7e2",
   "metadata": {},
   "outputs": [],
   "source": [
    "class Solution:\n",
    "    def longestPalindromeSubseq(self, s: str) -> int:\n",
    "        #Solution 01\n",
    "        #dp = [[0]*len(s) for _ in range(len(s))]\n",
    "        #for diff in range(len(s)):\n",
    "        #    for i in range(len(s)-diff):\n",
    "        #        j = i + diff\n",
    "        #        if diff < 2:\n",
    "        #            dp[i][j] = 1 if i == j or s[i] != s[j] else 2\n",
    "        #        else:\n",
    "        #            dp[i][j] = (dp[i+1][j-1] + 2) if s[i] == s[j] else max(dp[i+1][j], dp[i][j-1])\n",
    "        #return dp[0][-1]\n",
    "        \n",
    "        #Solution 02 (Same algorithm, but using list instead of matrix)\n",
    "        dp, dp_old = [0]*len(s), [0]*len(s)\n",
    "        for diff in range(len(s)):\n",
    "            for i in range(len(s)-diff):\n",
    "                j = i + diff\n",
    "                if diff < 2:\n",
    "                    dp[i] = 1 if i == j or s[i] != s[j] else 2\n",
    "                else:\n",
    "                    dp[i] = (dp[i+1] + 2) if s[i] == s[j] else max(dp_old[i], dp_old[i+1])\n",
    "            dp, dp_old = dp_old, dp\n",
    "        \n",
    "        return dp_old[0]"
   ]
  }
 ],
 "metadata": {
  "kernelspec": {
   "display_name": "Python 3 (ipykernel)",
   "language": "python",
   "name": "python3"
  },
  "language_info": {
   "codemirror_mode": {
    "name": "ipython",
    "version": 3
   },
   "file_extension": ".py",
   "mimetype": "text/x-python",
   "name": "python",
   "nbconvert_exporter": "python",
   "pygments_lexer": "ipython3",
   "version": "3.8.12"
  }
 },
 "nbformat": 4,
 "nbformat_minor": 5
}
