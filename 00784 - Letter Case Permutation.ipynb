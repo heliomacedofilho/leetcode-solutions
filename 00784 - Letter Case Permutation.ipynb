{
 "cells": [
  {
   "cell_type": "code",
   "execution_count": null,
   "id": "a6148583-5588-4098-9257-4b6bfb72d7e2",
   "metadata": {},
   "outputs": [],
   "source": [
    "class Solution:\n",
    "    def letterCasePermutation(self, s: str) -> List[str]:\n",
    "        #Solution 01\n",
    "        #strings = ['']\n",
    "        #for c in s:\n",
    "        #    new_strings = []\n",
    "        #    ascii_code = ord(c)\n",
    "        #    if ord('A') <= ascii_code <= ord('Z'):\n",
    "        #        for substring in strings:\n",
    "        #            new_strings.append(substring+c)\n",
    "        #            new_strings.append(substring+chr(ascii_code + 32))\n",
    "        #    elif ord('a') <= ascii_code <= ord('z'):\n",
    "        #        for substring in strings:\n",
    "        #            new_strings.append(substring+c)\n",
    "        #            new_strings.append(substring+chr(ascii_code - 32))\n",
    "        #    else: \n",
    "        #        for substring in strings:\n",
    "        #            new_strings.append(substring+c)\n",
    "        #    strings = new_strings\n",
    "        #return strings\n",
    "                \n",
    "        #Solution 02\n",
    "        strings = ['']\n",
    "        for c in s:\n",
    "            new_strings = []\n",
    "            if c.isdigit():\n",
    "                for substring in strings:\n",
    "                    new_strings.append(substring+c)\n",
    "            else:\n",
    "                for substring in strings:\n",
    "                    new_strings.append(substring+c.lower())\n",
    "                    new_strings.append(substring+c.upper())\n",
    "            strings = new_strings\n",
    "        return strings"
   ]
  }
 ],
 "metadata": {
  "kernelspec": {
   "display_name": "Python 3 (ipykernel)",
   "language": "python",
   "name": "python3"
  },
  "language_info": {
   "codemirror_mode": {
    "name": "ipython",
    "version": 3
   },
   "file_extension": ".py",
   "mimetype": "text/x-python",
   "name": "python",
   "nbconvert_exporter": "python",
   "pygments_lexer": "ipython3",
   "version": "3.8.12"
  }
 },
 "nbformat": 4,
 "nbformat_minor": 5
}
