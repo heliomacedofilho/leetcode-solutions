{
 "cells": [
  {
   "cell_type": "code",
   "execution_count": null,
   "id": "a6148583-5588-4098-9257-4b6bfb72d7e2",
   "metadata": {},
   "outputs": [],
   "source": [
    "class Solution:\n",
    "    def climbStairs(self, n: int) -> int:\n",
    "        answer = [1, 1]\n",
    "        for i in range(2, n+1):\n",
    "            answer[i&1] = answer[0]+answer[1]\n",
    "            \n",
    "        return answer[n&1]"
   ]
  }
 ],
 "metadata": {
  "kernelspec": {
   "display_name": "Python 3 (ipykernel)",
   "language": "python",
   "name": "python3"
  },
  "language_info": {
   "codemirror_mode": {
    "name": "ipython",
    "version": 3
   },
   "file_extension": ".py",
   "mimetype": "text/x-python",
   "name": "python",
   "nbconvert_exporter": "python",
   "pygments_lexer": "ipython3",
   "version": "3.8.12"
  }
 },
 "nbformat": 4,
 "nbformat_minor": 5
}
