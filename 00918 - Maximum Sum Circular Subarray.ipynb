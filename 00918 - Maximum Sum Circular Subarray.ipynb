{
 "cells": [
  {
   "cell_type": "code",
   "execution_count": null,
   "id": "a6148583-5588-4098-9257-4b6bfb72d7e2",
   "metadata": {},
   "outputs": [],
   "source": [
    "class Solution:\n",
    "    def maxSubarraySumCircular(self, nums: List[int]) -> int:\n",
    "        \n",
    "        def largestSubArray(nums: List[int], f) -> int:\n",
    "        \n",
    "            f1, f2 = (max, min) if f == max else (min, max)\n",
    "                \n",
    "            prefix_sum = nums[0]\n",
    "            final_sum = nums[0]\n",
    "            temp_sum = f2(0, nums[0])\n",
    "\n",
    "            for i in range(1, len(nums)):\n",
    "                prefix_sum = nums[i] + prefix_sum\n",
    "                final_sum = f1(final_sum, prefix_sum - temp_sum)\n",
    "                temp_sum = f2(temp_sum, prefix_sum)\n",
    "\n",
    "            return final_sum\n",
    "\n",
    "        sum_all = sum(nums)\n",
    "        max_sum = largestSubArray(nums, max)\n",
    "        min_sum = largestSubArray(nums, min)\n",
    "        \n",
    "        if sum_all == min_sum:\n",
    "            return max_sum\n",
    "        else:\n",
    "            return max(max_sum, sum_all - min_sum)"
   ]
  }
 ],
 "metadata": {
  "kernelspec": {
   "display_name": "Python 3 (ipykernel)",
   "language": "python",
   "name": "python3"
  },
  "language_info": {
   "codemirror_mode": {
    "name": "ipython",
    "version": 3
   },
   "file_extension": ".py",
   "mimetype": "text/x-python",
   "name": "python",
   "nbconvert_exporter": "python",
   "pygments_lexer": "ipython3",
   "version": "3.8.12"
  }
 },
 "nbformat": 4,
 "nbformat_minor": 5
}
