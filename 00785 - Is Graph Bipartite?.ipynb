{
 "cells": [
  {
   "cell_type": "code",
   "execution_count": null,
   "id": "a6148583-5588-4098-9257-4b6bfb72d7e2",
   "metadata": {},
   "outputs": [],
   "source": [
    "class Solution:\n",
    "    def isBipartite(self, graph: List[List[int]]) -> bool:\n",
    "\n",
    "        queue = [0]\n",
    "        not_visited = set([i for i in range(len(graph))])\n",
    "        independent_sets = [set(), set()]\n",
    "        iteration = 0\n",
    "        \n",
    "        while(not_visited):\n",
    "            if not queue: queue = [node for node in graph[not_visited.pop()]]\n",
    "            neighbors = set()\n",
    "            for node in queue:\n",
    "                if node in not_visited:\n",
    "                    independent_sets[iteration&1].add(node)\n",
    "                    not_visited.remove(node)\n",
    "                    for neighbor in graph[node]:\n",
    "                        neighbors.add(neighbor)\n",
    "                        if neighbor in independent_sets[iteration&1]: \n",
    "                            return False\n",
    "            queue = neighbors\n",
    "            iteration+=1\n",
    "        \n",
    "        return True"
   ]
  }
 ],
 "metadata": {
  "kernelspec": {
   "display_name": "Python 3 (ipykernel)",
   "language": "python",
   "name": "python3"
  },
  "language_info": {
   "codemirror_mode": {
    "name": "ipython",
    "version": 3
   },
   "file_extension": ".py",
   "mimetype": "text/x-python",
   "name": "python",
   "nbconvert_exporter": "python",
   "pygments_lexer": "ipython3",
   "version": "3.8.12"
  }
 },
 "nbformat": 4,
 "nbformat_minor": 5
}
