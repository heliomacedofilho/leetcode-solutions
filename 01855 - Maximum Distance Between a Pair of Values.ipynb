{
 "cells": [
  {
   "cell_type": "code",
   "execution_count": null,
   "id": "a6148583-5588-4098-9257-4b6bfb72d7e2",
   "metadata": {},
   "outputs": [],
   "source": [
    "class Solution:\n",
    "    def maxDistance(self, nums1: List[int], nums2: List[int]) -> int:\n",
    "        def binary_search(arr, target):\n",
    "            i, j = 0, len(arr) - 1\n",
    "            while (i<=j):\n",
    "                m = (i+j)//2\n",
    "                if arr[m] >= target:\n",
    "                    i=m+1\n",
    "                else:\n",
    "                    j=m-1\n",
    "            return i\n",
    "\n",
    "        max_distance = 0\n",
    "        idx_num2 = binary_search(nums2, nums1[0])\n",
    "        for idx_num1, num1 in enumerate(nums1):\n",
    "            while idx_num2 < len(nums2) and nums2[idx_num2] >= num1:\n",
    "                idx_num2+=1\n",
    "            max_distance = max(max_distance, idx_num2 - 1 - idx_num1)\n",
    "        return max_distance"
   ]
  }
 ],
 "metadata": {
  "kernelspec": {
   "display_name": "Python 3 (ipykernel)",
   "language": "python",
   "name": "python3"
  },
  "language_info": {
   "codemirror_mode": {
    "name": "ipython",
    "version": 3
   },
   "file_extension": ".py",
   "mimetype": "text/x-python",
   "name": "python",
   "nbconvert_exporter": "python",
   "pygments_lexer": "ipython3",
   "version": "3.8.12"
  }
 },
 "nbformat": 4,
 "nbformat_minor": 5
}
